{
 "cells": [
  {
   "cell_type": "markdown",
   "id": "e72aabdf",
   "metadata": {},
   "source": [
    "# Label Preference\n",
    "This is a dataset from\n",
    "\n",
    "    @article{muller2020analysis,\n",
    "      title={Analysis of active school transportation in hilly urban environments: A case study of Dresden},\n",
    "      author={M{\\\"u}ller, Sven and Mejia-Dorantes, Lucia and Kersten, Elisa},\n",
    "      journal={Journal of transport geography},\n",
    "      volume={88},\n",
    "      pages={102872},\n",
    "      year={2020},\n",
    "      publisher={Elsevier}\n",
    "    }\n"
   ]
  },
  {
   "cell_type": "code",
   "execution_count": 17,
   "id": "3b4f01f9",
   "metadata": {},
   "outputs": [
    {
     "name": "stdout",
     "output_type": "stream",
     "text": [
      "The autoreload extension is already loaded. To reload it, use:\n",
      "  %reload_ext autoreload\n"
     ]
    }
   ],
   "source": [
    "%load_ext autoreload\n",
    "%autoreload 2\n",
    "import sys,os\n",
    "sys.path.append('../')   \n",
    "import numpy as np\n",
    "import pandas as pd\n",
    "from model.erroneousPreference import erroneousPreference\n",
    "from kernel import BlockRBF\n",
    "from utility import  paramz\n",
    "from sklearn.model_selection import train_test_split\n",
    "# for plotting\n",
    "import matplotlib.pyplot as plt\n",
    "import arviz as az\n",
    "\n",
    "\n",
    "#label preference dataset\n",
    "df = pd.read_csv(\"datasets/DDModeChoice.txt\", sep=\"\\t\", index_col=0)\n",
    "df.drop_duplicates(inplace=True)#.reset_index(inplace=True)\n",
    "df = df[(df.Season==0)&(df.CarAvail==0)&(df.Choice!=4) & (df.Grade>9)]#subselect data for homogeneity\n",
    "df.loc[:,'Choice']=df.loc[:,'Choice']-1\n",
    "#df.Choice:0:walk, 1:bike, 2:public transport"
   ]
  },
  {
   "cell_type": "code",
   "execution_count": 18,
   "id": "8e88d5ae",
   "metadata": {},
   "outputs": [],
   "source": [
    "CovCol=['Distance', 'School_location', 'Grade', 'Age', 'Gender',\n",
    "         'CB_location','Leistung']\n",
    "Labels=[0,1,2]#possible labels\n",
    "latent_dim= len(Labels)\n",
    "\n",
    "df_train,df_test = train_test_split(df, test_size=0.3)\n",
    "\n",
    "# train \n",
    "X_tr = df_train[CovCol].values\n",
    "n = X_tr.shape[0]\n",
    "\n",
    "pairs = []\n",
    "for ii in range(df_train.shape[0]):\n",
    "    choice = df_train.iloc[ii,0]\n",
    "    diff = np.setdiff1d(Labels,choice)\n",
    "    for d in diff:\n",
    "        pairs.append([ii+n*choice,ii+n*d])\n",
    "pairs_tr = np.vstack(pairs)\n"
   ]
  },
  {
   "cell_type": "code",
   "execution_count": 19,
   "id": "3065d5a8",
   "metadata": {},
   "outputs": [
    {
     "data": {
      "text/plain": [
       "(3171, 7)"
      ]
     },
     "execution_count": 19,
     "metadata": {},
     "output_type": "execute_result"
    }
   ],
   "source": [
    "from sklearn.preprocessing import StandardScaler\n",
    "scalerx = StandardScaler().fit(X_tr)\n",
    "X_tr_n = scalerx.transform(X_tr)\n",
    "Xaugm_tr = np.tile(X_tr_n,(latent_dim,1))\n",
    "Xaugm_tr.shape"
   ]
  },
  {
   "cell_type": "code",
   "execution_count": 20,
   "id": "8e1aba87",
   "metadata": {},
   "outputs": [],
   "source": [
    "#fitted hyperparameters\n",
    "lengthscales=np.array([\n",
    "    [1.22218717, 1.87808606, 4.        , 2.93232677, 0.27056331,\n",
    "         0.17910861, 4.        ],\n",
    "    [0.1       , 1.50303818, 4.        , 0.13099755, 0.18989127,\n",
    "         0.90070552, 0.62961128],\n",
    "    [2.60749252, 0.22110211, 4.        , 4.        , 0.16076371,\n",
    "         2.08030129, 4.        ]\n",
    "])\n",
    "variances=np.array([[5.50174791,0.1,0.89]])"
   ]
  },
  {
   "cell_type": "code",
   "execution_count": 26,
   "id": "0dda5cbe",
   "metadata": {},
   "outputs": [
    {
     "name": "stdout",
     "output_type": "stream",
     "text": [
      "{'lengthscale_0': {'value': array([1.22218717, 1.87808606, 4.        , 2.93232677, 0.27056331,\n",
      "       0.17910861, 4.        ]), 'range': array([[0.1, 4. ],\n",
      "       [0.1, 4. ],\n",
      "       [0.1, 4. ],\n",
      "       [0.1, 4. ],\n",
      "       [0.1, 4. ],\n",
      "       [0.1, 4. ],\n",
      "       [0.1, 4. ]]), 'transform': <utility.paramz.logexp object at 0x7f4b7dcf9d30>}, 'variance_0': {'value': array([5.50174791]), 'range': array([[1.e-01, 2.e+02]]), 'transform': <utility.paramz.logexp object at 0x7f4b7dcf9970>}, 'lengthscale_1': {'value': array([0.1       , 1.50303818, 4.        , 0.13099755, 0.18989127,\n",
      "       0.90070552, 0.62961128]), 'range': array([[0.1, 4. ],\n",
      "       [0.1, 4. ],\n",
      "       [0.1, 4. ],\n",
      "       [0.1, 4. ],\n",
      "       [0.1, 4. ],\n",
      "       [0.1, 4. ],\n",
      "       [0.1, 4. ]]), 'transform': <utility.paramz.logexp object at 0x7f4b7dcf9ca0>}, 'variance_1': {'value': array([0.1]), 'range': array([[1.e-01, 2.e+02]]), 'transform': <utility.paramz.logexp object at 0x7f4b7dcf9b20>}, 'lengthscale_2': {'value': array([2.60749252, 0.22110211, 4.        , 4.        , 0.16076371,\n",
      "       2.08030129, 4.        ]), 'range': array([[0.1, 4. ],\n",
      "       [0.1, 4. ],\n",
      "       [0.1, 4. ],\n",
      "       [0.1, 4. ],\n",
      "       [0.1, 4. ],\n",
      "       [0.1, 4. ],\n",
      "       [0.1, 4. ]]), 'transform': <utility.paramz.logexp object at 0x7f4b7dcf9dc0>}, 'variance_2': {'value': array([0.89]), 'range': array([[1.e-01, 2.e+02]]), 'transform': <utility.paramz.logexp object at 0x7f4b7dcf9c10>}}\n"
     ]
    },
    {
     "name": "stderr",
     "output_type": "stream",
     "text": [
      "100%|██████████| 5500/5500 [11:39<00:00,  7.86it/s]\n"
     ]
    }
   ],
   "source": [
    "# data dictionary\n",
    "data = {}\n",
    "data[\"Pairs\"] = pairs_tr\n",
    "data[\"X\"] = Xaugm_tr\n",
    "\n",
    "# define kernel and hyperparams\n",
    "Kernel = BlockRBF\n",
    "\n",
    "# kernel parameter dictionary\n",
    "\n",
    "params={}\n",
    "\n",
    "for i in range(latent_dim):\n",
    "    params['lengthscale_'+str(i)]={'value':lengthscales[i,:], \n",
    "                                'range':np.vstack([[0.1, 4.0]]*Xaugm_tr.shape[1]),\n",
    "                                'transform': paramz.logexp()}\n",
    "    params['variance_'+str(i)]={'value':variances[0,[i]], \n",
    "                                'range':np.vstack([[0.1, 200.0]]),\n",
    "                                'transform': paramz.logexp()}\n",
    "\n",
    "\n",
    "\n",
    "# define preference model \n",
    "model = erroneousPreference(data,Kernel,params,inf_method=\"laplace\")\n",
    "# compute hyperparameters\n",
    "#model.optimize_hyperparams(num_restarts=1,niterations=5) \n",
    "print(model.params)\n",
    "# sample from posterior\n",
    "model.sample(nsamples=5000, tune=500)"
   ]
  },
  {
   "cell_type": "code",
   "execution_count": 10,
   "id": "42499bd6",
   "metadata": {},
   "outputs": [
    {
     "data": {
      "text/plain": [
       "{'lengthscale_0': {'value': array([1.22218717, 1.87808606, 4.        , 2.93232677, 0.27056331,\n",
       "         0.17910861, 4.        ]),\n",
       "  'range': array([[0.1, 4. ],\n",
       "         [0.1, 4. ],\n",
       "         [0.1, 4. ],\n",
       "         [0.1, 4. ],\n",
       "         [0.1, 4. ],\n",
       "         [0.1, 4. ],\n",
       "         [0.1, 4. ]]),\n",
       "  'transform': <utility.paramz.logexp at 0x7f4b7e7e8790>},\n",
       " 'variance_0': {'value': array([5.50174791]),\n",
       "  'range': array([[1.e-01, 2.e+02]]),\n",
       "  'transform': <utility.paramz.logexp at 0x7f4b7e7e85b0>},\n",
       " 'lengthscale_1': {'value': array([0.1       , 1.50303818, 4.        , 0.13099755, 0.18989127,\n",
       "         0.90070552, 0.62961128]),\n",
       "  'range': array([[0.1, 4. ],\n",
       "         [0.1, 4. ],\n",
       "         [0.1, 4. ],\n",
       "         [0.1, 4. ],\n",
       "         [0.1, 4. ],\n",
       "         [0.1, 4. ],\n",
       "         [0.1, 4. ]]),\n",
       "  'transform': <utility.paramz.logexp at 0x7f4b7e7e8460>},\n",
       " 'variance_1': {'value': array([0.1]),\n",
       "  'range': array([[1.e-01, 2.e+02]]),\n",
       "  'transform': <utility.paramz.logexp at 0x7f4b7e7e8610>},\n",
       " 'lengthscale_2': {'value': array([2.60749252, 0.22110211, 4.        , 4.        , 0.16076371,\n",
       "         2.08030129, 4.        ]),\n",
       "  'range': array([[0.1, 4. ],\n",
       "         [0.1, 4. ],\n",
       "         [0.1, 4. ],\n",
       "         [0.1, 4. ],\n",
       "         [0.1, 4. ],\n",
       "         [0.1, 4. ],\n",
       "         [0.1, 4. ]]),\n",
       "  'transform': <utility.paramz.logexp at 0x7f4b7e7e8670>},\n",
       " 'variance_2': {'value': array([0.89495831]),\n",
       "  'range': array([[1.e-01, 2.e+02]]),\n",
       "  'transform': <utility.paramz.logexp at 0x7f4b7e7e86d0>}}"
      ]
     },
     "execution_count": 10,
     "metadata": {},
     "output_type": "execute_result"
    }
   ],
   "source": [
    "{'lengthscale_0': {'value': array([1.22218717, 1.87808606, 4.        , 2.93232677, 0.27056331,\n",
    "         0.17910861, 4.        ]),\n",
    "  'range': array([[0.1, 4. ],\n",
    "         [0.1, 4. ],\n",
    "         [0.1, 4. ],\n",
    "         [0.1, 4. ],\n",
    "         [0.1, 4. ],\n",
    "         [0.1, 4. ],\n",
    "         [0.1, 4. ]]),\n",
    "  'transform': <utility.paramz.logexp at 0x7f4b7e7e8790>},\n",
    " 'variance_0': {'value': array([5.50174791]),\n",
    "  'range': array([[1.e-01, 2.e+02]]),\n",
    "  'transform': <utility.paramz.logexp at 0x7f4b7e7e85b0>},\n",
    " 'lengthscale_1': {'value': array([0.1       , 1.50303818, 4.        , 0.13099755, 0.18989127,\n",
    "         0.90070552, 0.62961128]),\n",
    "  'range': array([[0.1, 4. ],\n",
    "         [0.1, 4. ],\n",
    "         [0.1, 4. ],\n",
    "         [0.1, 4. ],\n",
    "         [0.1, 4. ],\n",
    "         [0.1, 4. ],\n",
    "         [0.1, 4. ]]),\n",
    "  'transform': <utility.paramz.logexp at 0x7f4b7e7e8460>},\n",
    " 'variance_1': {'value': array([0.1]),\n",
    "  'range': array([[1.e-01, 2.e+02]]),\n",
    "  'transform': <utility.paramz.logexp at 0x7f4b7e7e8610>},\n",
    " 'lengthscale_2': {'value': array([2.60749252, 0.22110211, 4.        , 4.        , 0.16076371,\n",
    "         2.08030129, 4.        ]),\n",
    "  'range': array([[0.1, 4. ],\n",
    "         [0.1, 4. ],\n",
    "         [0.1, 4. ],\n",
    "         [0.1, 4. ],\n",
    "         [0.1, 4. ],\n",
    "         [0.1, 4. ],\n",
    "         [0.1, 4. ]]),\n",
    "  'transform': <utility.paramz.logexp at 0x7f4b7e7e8670>},\n",
    " 'variance_2': {'value': array([0.89495831]),\n",
    "  'range': array([[1.e-01, 2.e+02]]),\n",
    "  'transform': <utility.paramz.logexp at 0x7f4b7e7e86d0>}}"
   ]
  },
  {
   "cell_type": "code",
   "execution_count": 22,
   "id": "966f6cd5",
   "metadata": {},
   "outputs": [],
   "source": [
    "# predicted samples\n",
    "X_te = df_test[CovCol].values\n",
    "X_te_n = scalerx.transform(X_te)\n",
    "predictions = model.predict(np.tile(X_te_n,(latent_dim,1)))"
   ]
  },
  {
   "cell_type": "code",
   "execution_count": 23,
   "id": "7297c933",
   "metadata": {},
   "outputs": [
    {
     "data": {
      "text/plain": [
       "array([2, 0, 2, 0, 0, 2, 2, 2, 2, 1, 2, 1, 2, 2, 0, 1, 1, 1, 2, 0, 2, 0,\n",
       "       2, 2, 2, 1, 1, 0, 0, 1, 1, 2, 1, 2, 1, 2, 2, 2, 2, 2, 2, 2, 1, 0,\n",
       "       0, 2, 0, 1, 2, 0, 2, 2, 2, 2, 2, 2, 2, 2, 1, 1, 2, 0, 1, 2, 1, 0,\n",
       "       2, 0, 0, 1, 2, 1, 0, 1, 2, 2, 0, 0, 0, 2, 1, 1, 2, 1, 2, 2, 2, 1,\n",
       "       1, 2, 1, 2, 0, 1, 0, 0, 2, 2, 2, 2, 1, 2, 0, 1, 0, 2, 2, 2, 1, 2,\n",
       "       2, 0, 0, 2, 0, 2, 1, 2, 2, 1, 1, 2, 1, 2, 0, 2, 0, 2, 2, 0, 2, 1,\n",
       "       2, 2, 1, 2, 2, 1, 1, 1, 2, 2, 0, 2, 2, 2, 2, 0, 2, 1, 2, 1, 2, 2,\n",
       "       2, 2, 0, 2, 0, 0, 2, 2, 2, 1, 2, 1, 1, 2, 1, 1, 2, 2, 1, 2, 1, 1,\n",
       "       1, 0, 0, 2, 2, 2, 0, 2, 1, 2, 2, 2, 1, 2, 0, 2, 0, 2, 2, 1, 1, 0,\n",
       "       2, 1, 2, 0, 1, 2, 1, 2, 0, 2, 0, 0, 2, 2, 0, 0, 0, 0, 2, 0, 0, 1,\n",
       "       0, 2, 2, 0, 2, 2, 0, 2, 2, 1, 1, 2, 0, 0, 2, 2, 2, 1, 0, 2, 2, 2,\n",
       "       2, 2, 2, 1, 0, 2, 0, 2, 0, 1, 2, 2, 0, 2, 2, 2, 0, 2, 1, 0, 1, 2,\n",
       "       2, 1, 1, 2, 0, 0, 0, 1, 0, 1, 0, 1, 2, 2, 0, 2, 0, 2, 1, 1, 2, 2,\n",
       "       2, 0, 0, 0, 2, 2, 2, 1, 2, 2, 1, 1, 1, 1, 0, 2, 2, 2, 2, 2, 2, 2,\n",
       "       0, 2, 2, 1, 2, 0, 2, 0, 2, 2, 2, 1, 2, 2, 0, 1, 0, 0, 2, 1, 1, 2,\n",
       "       1, 2, 2, 1, 0, 1, 2, 2, 0, 2, 2, 0, 2, 2, 1, 2, 2, 2, 2, 1, 1, 1,\n",
       "       2, 1, 1, 0, 2, 2, 2, 2, 1, 2, 2, 1, 0, 2, 0, 1, 0, 2, 2, 0, 0, 2,\n",
       "       2, 1, 2, 1, 2, 1, 2, 2, 2, 2, 0, 2, 0, 1, 1, 2, 2, 1, 2, 0, 1, 1,\n",
       "       1, 2, 2, 2, 2, 2, 2, 2, 1, 0, 2, 0, 2, 0, 1, 2, 0, 1, 1, 2, 2, 0,\n",
       "       2, 2, 2, 2, 2, 0, 2, 0, 2, 0, 1, 1, 2, 1, 2, 0, 2, 2, 1, 1, 2, 2,\n",
       "       0, 2, 2, 0, 2, 0, 2, 2, 2, 2, 2, 0, 1, 1])"
      ]
     },
     "execution_count": 23,
     "metadata": {},
     "output_type": "execute_result"
    }
   ],
   "source": [
    "meanUtil = np.mean(predictions,axis=1).reshape(latent_dim,X_te.shape[0]).T\n",
    "predChoice = np.argmax(meanUtil,axis=1)\n",
    "predChoice"
   ]
  },
  {
   "cell_type": "code",
   "execution_count": 13,
   "id": "a4835d55",
   "metadata": {},
   "outputs": [
    {
     "data": {
      "text/plain": [
       "array([[-0.78096769, -0.04209084,  0.37133358],\n",
       "       [-0.47098297, -0.00262421,  0.77250189],\n",
       "       [-0.49195134,  0.16335981, -0.03827292],\n",
       "       [-0.33281191,  0.2104188 ,  0.07194174],\n",
       "       [-0.91107575,  0.14774056,  0.3813131 ]])"
      ]
     },
     "execution_count": 13,
     "metadata": {},
     "output_type": "execute_result"
    }
   ],
   "source": [
    "meanUtil[0:5,:]"
   ]
  },
  {
   "cell_type": "code",
   "execution_count": 14,
   "id": "1bfaadb6",
   "metadata": {},
   "outputs": [
    {
     "data": {
      "text/plain": [
       "array([2, 2, 2, 1, 2, 1, 0, 2, 0, 1, 2, 2, 0, 2, 0, 2, 2, 2, 2, 2, 2, 2,\n",
       "       2, 2, 2, 2, 1, 2, 1, 2, 0, 0, 2, 2, 0, 1, 2, 2, 2, 2, 2, 1, 1, 1,\n",
       "       2, 2, 2, 2, 1, 2, 0, 1, 2, 1, 2, 1, 0, 2, 2, 2, 2, 1, 0, 0, 1, 1,\n",
       "       2, 2, 1, 0, 1, 2, 0, 1, 2, 1, 0, 1, 2, 2, 1, 1, 2, 2, 2, 2, 1, 2,\n",
       "       0, 1, 2, 2, 2, 0, 2, 1, 2, 0, 2, 0, 2, 1, 2, 2, 1, 2, 1, 1, 2, 1,\n",
       "       1, 0, 2, 2, 0, 0, 0, 2, 2, 1, 2, 1, 2, 2, 1, 0, 0, 1, 1, 0, 0, 2,\n",
       "       2, 1, 1, 0, 2, 2, 0, 1, 2, 2, 2, 2, 2, 2, 1, 2, 1, 1, 0, 0, 2, 0,\n",
       "       2, 2, 1, 0, 2, 2, 1, 0, 2, 1, 1, 2, 2, 0, 2, 1, 0, 2, 1, 1, 2, 1,\n",
       "       2, 1, 2, 0, 2, 2, 2, 1, 2, 1, 2, 1, 2, 2, 1, 1, 0, 1, 1, 2, 0, 2,\n",
       "       2, 1, 1, 2, 0, 2, 1, 2, 2, 2, 2, 2, 1, 1, 2, 2, 0, 2, 1, 0, 0, 1,\n",
       "       0, 1, 2, 2, 0, 1, 2, 1, 2, 0, 2, 1, 1, 2, 0, 1, 0, 1, 2, 2, 0, 1,\n",
       "       0, 0, 2, 1, 0, 1, 2, 0, 1, 2, 2, 0, 2, 2, 0, 0, 1, 1, 2, 2, 0, 1,\n",
       "       2, 1, 2, 0, 0, 1, 2, 1, 2, 2, 1, 0, 0, 0, 2, 0, 2, 2, 0, 1, 0, 1,\n",
       "       2, 0, 0, 0, 0, 0, 0, 2, 1, 1, 1, 2, 2, 0, 2, 2, 2, 2, 0, 1, 2, 2,\n",
       "       1, 2, 0, 2, 2, 2, 0, 2, 2, 2, 1, 0, 2, 2, 1, 0, 0, 1, 2, 2, 2, 2,\n",
       "       1, 0, 2, 1, 1, 2, 2, 2, 1, 2, 2, 1, 1, 0, 0, 2, 1, 1, 0, 2, 0, 1,\n",
       "       2, 1, 2, 2, 2, 0, 2, 0, 0, 1, 0, 2, 2, 2, 0, 1, 1, 2, 0, 2, 2, 1,\n",
       "       2, 1, 2, 0, 2, 2, 2, 2, 1, 2, 2, 0, 1, 2, 2, 2, 2, 2, 2, 2, 0, 2,\n",
       "       2, 0, 2, 1, 1, 2, 1, 2, 2, 2, 2, 1, 1, 0, 1, 0, 2, 2, 1, 1, 1, 1,\n",
       "       2, 2, 0, 2, 2, 1, 1, 1, 1, 2, 2, 2, 2, 2, 2, 0, 1, 2, 0, 2, 1, 1,\n",
       "       2, 0, 2, 2, 2, 2, 2, 0, 2, 2, 0, 2, 0, 2])"
      ]
     },
     "execution_count": 14,
     "metadata": {},
     "output_type": "execute_result"
    }
   ],
   "source": [
    "df_test.Choice.values"
   ]
  },
  {
   "cell_type": "code",
   "execution_count": 24,
   "id": "21b92614",
   "metadata": {},
   "outputs": [
    {
     "data": {
      "text/plain": [
       "0.7444933920704846"
      ]
     },
     "execution_count": 24,
     "metadata": {},
     "output_type": "execute_result"
    }
   ],
   "source": [
    "accuracy = np.mean(df_test.Choice.values==predChoice)\n",
    "accuracy"
   ]
  },
  {
   "cell_type": "markdown",
   "id": "91f8c17a",
   "metadata": {},
   "source": [
    "# One level Plackett-Luce"
   ]
  },
  {
   "cell_type": "code",
   "execution_count": 20,
   "id": "dbabd21f",
   "metadata": {},
   "outputs": [
    {
     "data": {
      "text/plain": [
       "array([ 6.73795614e-33,  3.06422275e-59,  1.67739701e-04, ...,\n",
       "        2.27898815e-02,  4.22643721e-10, -5.01154800e-07])"
      ]
     },
     "execution_count": 20,
     "metadata": {},
     "output_type": "execute_result"
    }
   ],
   "source": [
    "u3"
   ]
  },
  {
   "cell_type": "code",
   "execution_count": 24,
   "id": "7deffad0",
   "metadata": {},
   "outputs": [
    {
     "data": {
      "text/plain": [
       "array([ 0.00000000e+00,  0.00000000e+00,  0.00000000e+00, ...,\n",
       "        7.04620731e-10, -1.01097046e-06,  2.18395446e-07])"
      ]
     },
     "execution_count": 24,
     "metadata": {},
     "output_type": "execute_result"
    }
   ],
   "source": [
    "u2-u1"
   ]
  },
  {
   "cell_type": "code",
   "execution_count": null,
   "id": "982dc6b3",
   "metadata": {},
   "outputs": [],
   "source": []
  }
 ],
 "metadata": {
  "hide_input": false,
  "kernelspec": {
   "display_name": "Python 3 (ipykernel)",
   "language": "python",
   "name": "python3"
  },
  "language_info": {
   "codemirror_mode": {
    "name": "ipython",
    "version": 3
   },
   "file_extension": ".py",
   "mimetype": "text/x-python",
   "name": "python",
   "nbconvert_exporter": "python",
   "pygments_lexer": "ipython3",
   "version": "3.9.7"
  }
 },
 "nbformat": 4,
 "nbformat_minor": 5
}
