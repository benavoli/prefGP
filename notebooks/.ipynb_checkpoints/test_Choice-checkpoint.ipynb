{
 "cells": [
  {
   "cell_type": "code",
   "execution_count": 1,
   "id": "2ca6d467",
   "metadata": {},
   "outputs": [],
   "source": [
    "import sys,os\n",
    "sys.path.append('../')   \n",
    "import numpy as np\n",
    "from model.erroneousChoice_full import  erroneousChoice\n",
    "from kernel import jaxrbf\n",
    "from utility import  paramz\n",
    "# for plotting\n",
    "import matplotlib.pyplot as plt\n",
    "import arviz as az\n",
    "import jax.numpy as jnp\n",
    "import jax\n",
    "from jax.scipy.stats import multivariate_normal\n",
    "\n",
    "import torch\n",
    "from botorch.utils.multi_objective import is_non_dominated\n",
    "def is_pareto(X):\n",
    "    return is_non_dominated(torch.from_numpy(X),deduplicate=False)\n",
    "\n",
    "#generate CA RA sets\n",
    "def make_CA_RA(x, y, rows=[]):\n",
    "    if len(rows)==0:\n",
    "        rows=np.arange(x.shape[0])\n",
    "    acc = rows[is_pareto(y)]\n",
    "    rej = rows[~ is_pareto(y)]\n",
    "    return acc, rej\n",
    "\n",
    "def make_observations(X, fun, nA, dimA, init=False):\n",
    "\n",
    "\n",
    "    ret = True\n",
    "    while ret==True:\n",
    "        CA=[]\n",
    "        RA=[]   \n",
    "        ix = 0\n",
    "        for i in range(nA):\n",
    "            rows = np.random.permutation(np.arange(X.shape[0]))[0:dimA]\n",
    "            x=X[rows,:]\n",
    "            y=fun(x)\n",
    "            acc,rej=make_CA_RA(x, y, rows)\n",
    "            if len(acc)>0:\n",
    "                CA.append(acc)\n",
    "            else:\n",
    "                CA.append([])\n",
    "            if len(acc)<dimA:\n",
    "                RA.append(rej)\n",
    "            else:\n",
    "                RA.append([])\n",
    "            ix = ix+1\n",
    "        #print(np.unique(np.hstack([np.hstack(CA),np.hstack(RA)])))\n",
    "        if (init==False) | (len(np.setdiff1d(np.arange(X.shape[0]),np.unique(np.hstack([np.hstack(CA),np.hstack(RA)]))))==0):\n",
    "            ret=False\n",
    "    return CA, RA\n",
    "\n",
    "\n",
    "#generate data\n",
    "np.random.seed(42)\n",
    "latent_dim=2\n",
    "bounds=[[-2.6,2.6]]\n",
    "def fun(x):\n",
    "    return np.hstack([np.cos(x*5)+np.exp(-x**2/8),np.cos(x*5)+np.exp(-x**2/8)]) #,np.cos(x*5)+np.exp(-x**2/8)])\n",
    "Xpred=np.linspace(bounds[0][0],bounds[0][1],200)[:,None]\n",
    "\n",
    "n=80 # number of objects\n",
    "X=np.sort(np.vstack(bounds)[:,0]+np.random.rand(n,1)*(np.vstack(bounds)[:,1]-np.vstack(bounds)[:,0]),axis=0)\n",
    "\n",
    "nA = 150\n",
    "dimA = 2\n",
    "CA, RA = make_observations(X, fun, nA, dimA, init=False)\n",
    "\n",
    "data={'X': X,\n",
    "      'CA': CA,\n",
    "      'RA': RA,\n",
    "      'dimA':dimA\n",
    "          }\n",
    "\n",
    "params = {'lengthscale_0': {'value':0.5*np.ones(data[\"X\"].shape[1],float), \n",
    "                            'range':np.vstack([[0.1, 3.0]]*data[\"X\"].shape[1]),\n",
    "                            'transform': paramz.logexp()},\n",
    "                 'variance_0': {'value':np.array([1.0]), \n",
    "                            'range':np.vstack([[1.0, 200.0]]),\n",
    "                            'transform': paramz.logexp()},\n",
    "          'lengthscale_1': {'value':0.5*np.ones(data[\"X\"].shape[1],float), \n",
    "                            'range':np.vstack([[0.1, 3.0]]*data[\"X\"].shape[1]),\n",
    "                            'transform': paramz.logexp()},\n",
    "                 'variance_1': {'value':np.array([1.0]), \n",
    "                            'range':np.vstack([[1.0, 200.0]]),\n",
    "                            'transform': paramz.logexp()},\n",
    "              }\n",
    "\n",
    "\n",
    "\n",
    "\n",
    "# define kernel and hyperparams\n",
    "Kernel0 = jaxrbf.RBF\n",
    "\n",
    "# define preference model \n",
    "#model = erroneousChoice(data,Kernel,params,latent_dim)\n",
    "# compute hyperparameters\n",
    "#model.optimize_hyperparams()"
   ]
  },
  {
   "cell_type": "code",
   "execution_count": 60,
   "id": "4939d0aa",
   "metadata": {},
   "outputs": [],
   "source": [
    "from scipy.stats import multivariate_normal\n",
    "samples = multivariate_normal(ff[:,0],np.diag(np.diag(SS))+1e-4*np.eye(SS.shape[0])).rvs(100000)"
   ]
  },
  {
   "cell_type": "code",
   "execution_count": 68,
   "id": "6c3fc736",
   "metadata": {},
   "outputs": [
    {
     "name": "stderr",
     "output_type": "stream",
     "text": [
      "<ipython-input-68-97fc8cc1a162>:2: FutureWarning: hdi currently interprets 2d data as (draw, shape) but this will change in a future release to (chain, draw) for coherence with other functions\n",
      "  cc= az.hdi(samples)[0:Xpred.shape[0]]\n"
     ]
    }
   ],
   "source": [
    "import arviz as az\n",
    "cc= az.hdi(samples)[0:Xpred.shape[0]]"
   ]
  },
  {
   "cell_type": "code",
   "execution_count": 71,
   "id": "c9c87b18",
   "metadata": {},
   "outputs": [
    {
     "data": {
      "text/plain": [
       "[<matplotlib.lines.Line2D at 0x7f735ade7eb0>]"
      ]
     },
     "execution_count": 71,
     "metadata": {},
     "output_type": "execute_result"
    },
    {
     "data": {
      "image/png": "[encoded data removed]",
      "text/plain": [
       "<Figure size 432x288 with 1 Axes>"
      ]
     },
     "metadata": {
      "needs_background": "light"
     },
     "output_type": "display_data"
    }
   ],
   "source": [
    "plt.plot(Xpred[:,0],cc[:,0],color='b')\n",
    "plt.plot(Xpred[:,0],ff[0:Xpred.shape[0]],color='r')\n",
    "plt.plot(Xpred[:,0],cc[:,1],color='b')"
   ]
  },
  {
   "cell_type": "code",
   "execution_count": 67,
   "id": "15d1ea38",
   "metadata": {},
   "outputs": [
    {
     "data": {
      "text/plain": [
       "(400, 2)"
      ]
     },
     "execution_count": 67,
     "metadata": {},
     "output_type": "execute_result"
    }
   ],
   "source": [
    "cc.shape"
   ]
  },
  {
   "cell_type": "code",
   "execution_count": null,
   "id": "ed10f7b6",
   "metadata": {},
   "outputs": [],
   "source": []
  }
 ],
 "metadata": {
  "hide_input": false,
  "kernelspec": {
   "display_name": "Python 3",
   "language": "python",
   "name": "python3"
  },
  "language_info": {
   "codemirror_mode": {
    "name": "ipython",
    "version": 3
   },
   "file_extension": ".py",
   "mimetype": "text/x-python",
   "name": "python",
   "nbconvert_exporter": "python",
   "pygments_lexer": "ipython3",
   "version": "3.9.7"
  }
 },
 "nbformat": 4,
 "nbformat_minor": 5
}
