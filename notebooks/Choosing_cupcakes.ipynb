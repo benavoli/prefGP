{
 "cells": [
  {
   "cell_type": "code",
   "execution_count": 54,
   "id": "fd25d5c7",
   "metadata": {},
   "outputs": [
    {
     "name": "stdout",
     "output_type": "stream",
     "text": [
      "The autoreload extension is already loaded. To reload it, use:\n",
      "  %reload_ext autoreload\n"
     ]
    }
   ],
   "source": [
    "%load_ext autoreload\n",
    "%autoreload 2\n",
    "import numpy as np\n",
    "import sys\n",
    "sys.path.append('../')\n",
    "from model.erroneousChoice_full import  erroneousChoice\n",
    "from kernel import jaxrbf\n",
    "from utility import  paramz\n",
    "import matplotlib.pyplot as plt  "
   ]
  },
  {
   "cell_type": "markdown",
   "id": "fbd0224e",
   "metadata": {},
   "source": [
    "# Choosing Cupcakes\n",
    "\n"
   ]
  },
  {
   "cell_type": "code",
   "execution_count": 55,
   "id": "f75834bf",
   "metadata": {},
   "outputs": [
    {
     "data": {
      "text/plain": [
       "<matplotlib.legend.Legend at 0x7fbe15d75c10>"
      ]
     },
     "execution_count": 55,
     "metadata": {},
     "output_type": "execute_result"
    },
    {
     "data": {
      "image/png": "[encoded data removed]",
      "text/plain": [
       "<Figure size 432x288 with 1 Axes>"
      ]
     },
     "metadata": {
      "needs_background": "light"
     },
     "output_type": "display_data"
    }
   ],
   "source": [
    "np.random.seed(42)\n",
    "bounds=[[-0.25,1.25]]\n",
    "def fun(x,noise=0):\n",
    "    u1 = np.exp(-(x-0.25)**2*15)\n",
    "    u2 = np.exp(-(x-0.75)**2*15)\n",
    "    return np.hstack([u1,u2])+noise\n",
    "Xpred=np.linspace(bounds[0][0],bounds[0][1],365)[:,None]\n",
    "\n",
    "output = fun(Xpred)\n",
    "plt.plot(Xpred[:,0],output[:,0],color='C0',label=\"u$_1$\")\n",
    "plt.plot(Xpred[:,0],output[:,1],color='C1',label=\"u$_2$\")\n",
    "plt.xlabel(\"x\",fontsize=16)\n",
    "plt.ylabel(\"$u_i(x)$\",fontsize=16);\n",
    "plt.grid()\n",
    "plt.legend(fontsize=16)\n",
    "#plt.savefig(\"ChoiceCupcake.pdf\")"
   ]
  },
  {
   "cell_type": "markdown",
   "id": "87f88763",
   "metadata": {},
   "source": [
    "# Learning from choice data\n",
    "\n",
    "We illustrate the overall model with an example. We consider the bi-dimensional utility function ${\\bf u}(x)=[u_1(x),u_2(x)]$ with $x \\in \\mathbb{R}$. \n",
    "We use ${\\bf u}$ to define a choice function via Pareto dominance. For instance, consider the set of options $A_k=\\{x_1,x_2,x_3\\}$, assume that ${\\bf u}(x_1)=[1,0]$, ${\\bf u}(x_2)=[0.54,-0.84]$, $\n",
    "{\\bf u}(x_3)=[0,1]$,\n",
    "we have that $C(A_k)=\\{x_1,x_3\\}$ and $R(A_k)=A_k \\backslash C(A_k)=\\{x_2\\}$. In fact, one can notice that  $[1,0]$ dominates  $[0.54,-0.84]$ on both the utilities, and $[1,0]$  and $[0,1]$ are incomparable.  We sample $30$ inputs $x_i$ at random in $[-0.25,1.25]$ and, using the above approach, we generate a dataset \n",
    "of $m=100$ random subsets $\\{A_k\\}_{k=1}^m$ of the 30 points each one of size $|A_k|=3$  and computed the corresponding choice pairs $(C(A_k),A_k)$ based on  ${\\bf u}$ defined by `fun`.\n",
    "\n",
    "Note that, we use botorch (and torch) only to build the dataset (in particular we use the function `is_non_dominated`)."
   ]
  },
  {
   "cell_type": "code",
   "execution_count": 71,
   "id": "b9c26aa1",
   "metadata": {},
   "outputs": [],
   "source": [
    "import torch\n",
    "from botorch.utils.multi_objective import is_non_dominated\n",
    "\n",
    "def is_pareto(X):\n",
    "    return is_non_dominated(torch.from_numpy(X),deduplicate=False)\n",
    "\n",
    "#generate CA RA sets\n",
    "def make_CA_RA(x, y, rows=[]):\n",
    "    if len(rows)==0:\n",
    "        rows=np.arange(x.shape[0])\n",
    "    acc = rows[is_pareto(y)]\n",
    "    rej = rows[~ is_pareto(y)]\n",
    "    return acc, rej\n",
    "\n",
    "def make_observations(X, fun, nA, dimA):\n",
    "    CA=[]\n",
    "    RA=[]   \n",
    "    ix = 0\n",
    "    for i in range(nA):\n",
    "        rows = np.random.permutation(np.arange(X.shape[0]))[0:dimA]\n",
    "        x=X[rows,:]\n",
    "        y=fun(x)\n",
    "        acc,rej=make_CA_RA(x, y, rows)\n",
    "        if len(acc)>0:\n",
    "            CA.append(acc)\n",
    "        else:\n",
    "            CA.append([])\n",
    "        if len(acc)<dimA:\n",
    "            RA.append(rej)\n",
    "        else:\n",
    "            RA.append([])\n",
    "        ix = ix+1\n",
    "    return CA, RA\n",
    "\n",
    "\n",
    "#generate data\n",
    "np.random.seed(1)\n",
    "\n",
    "bounds=[[-0.25,1.25]]\n",
    "\n",
    "# we randomly generate objects\n",
    "n = 50 # number of objects\n",
    "X = np.sort(np.vstack(bounds)[:,0]+np.random.rand(n,1)*(np.vstack(bounds)[:,1]-np.vstack(bounds)[:,0]),axis=0)\n",
    "\n",
    "# we randomly generate choice data\n",
    "nA = 100 # number of choice sets\n",
    "dimA = 3 # dimension of each choice set\n",
    "CA, RA = make_observations(X, fun, nA, dimA)\n",
    "\n",
    "# We use this for prediction (plotting)\n",
    "Xpred=np.linspace(bounds[0][0],bounds[0][1],200)[:,None]"
   ]
  },
  {
   "cell_type": "markdown",
   "id": "757e6405",
   "metadata": {},
   "source": [
    "## Fixed latent dimension\n",
    "\n",
    "The following code allows us to learn a choice function from choice-data. We have to select the latent dimension `latent_dim`, which represents the number of utility functions. Similarly to GP processes for multiclass classification, we model each  latent utility function in the vector ${\\bf u}({\\bf x})=[u_1({\\bf x}),\\dots,u_{d}({\\bf x})]^\\top$ as an independent GP:\n",
    "\n",
    "$$\n",
    " u_i({\\bf x}) \\sim \\text{GP}_i(0,k_i({\\bf x},{\\bf x}')), ~~~~i=1,2,\\dots,d.\n",
    "$$\n",
    "\n",
    " Each GP is fully specified by its kernel function $k_i(\\cdot,\\cdot)$, which defines the covariance of the latent function between any two points. The model parameters are the kernel parameters (lengthscales) in $k_i(\\cdot,\\cdot)$, and the variance. These parameters must be initiliased and then they are optimised using variational inference."
   ]
  },
  {
   "cell_type": "code",
   "execution_count": 78,
   "id": "ddbc7562",
   "metadata": {},
   "outputs": [
    {
     "name": "stdout",
     "output_type": "stream",
     "text": [
      "91.35062949190417\n",
      "91.25638297890296\n",
      "91.22518765375052\n",
      "91.2368066415124\n",
      "91.5890422401966\n",
      "91.45628055626314\n",
      "40885.87100751984\n",
      "95.59052748460013\n",
      "128787.58550303725\n"
     ]
    },
    {
     "name": "stderr",
     "output_type": "stream",
     "text": [
      "\r",
      "  0%|          | 0/5000 [00:00<?, ?it/s]"
     ]
    },
    {
     "name": "stdout",
     "output_type": "stream",
     "text": [
      "91.22518765375905\n",
      "91.22518765375052\n"
     ]
    },
    {
     "ename": "NameError",
     "evalue": "name 'aaa' is not defined",
     "output_type": "error",
     "traceback": [
      "\u001b[0;31m---------------------------------------------------------------------------\u001b[0m",
      "\u001b[0;31mNameError\u001b[0m                                 Traceback (most recent call last)",
      "\u001b[0;32m<ipython-input-78-ce91320edcfd>\u001b[0m in \u001b[0;36m<module>\u001b[0;34m\u001b[0m\n\u001b[1;32m     29\u001b[0m \u001b[0mmodel\u001b[0m \u001b[0;34m=\u001b[0m \u001b[0merroneousChoice\u001b[0m\u001b[0;34m(\u001b[0m\u001b[0mdata\u001b[0m\u001b[0;34m,\u001b[0m\u001b[0mKernel\u001b[0m\u001b[0;34m,\u001b[0m\u001b[0mparams\u001b[0m\u001b[0;34m,\u001b[0m\u001b[0mlatent_dim\u001b[0m\u001b[0;34m,\u001b[0m \u001b[0mscale\u001b[0m\u001b[0;34m=\u001b[0m\u001b[0;36m5\u001b[0m\u001b[0;34m)\u001b[0m\u001b[0;34m\u001b[0m\u001b[0;34m\u001b[0m\u001b[0m\n\u001b[1;32m     30\u001b[0m \u001b[0;31m# compute variational inference and estimate hyperparameters\u001b[0m\u001b[0;34m\u001b[0m\u001b[0;34m\u001b[0m\u001b[0m\n\u001b[0;32m---> 31\u001b[0;31m \u001b[0mmodel\u001b[0m\u001b[0;34m.\u001b[0m\u001b[0moptimize_hyperparams\u001b[0m\u001b[0;34m(\u001b[0m\u001b[0mniterations\u001b[0m\u001b[0;34m=\u001b[0m\u001b[0;36m5000\u001b[0m\u001b[0;34m,\u001b[0m\u001b[0mkernel_hypers_fixed\u001b[0m\u001b[0;34m=\u001b[0m\u001b[0;32mFalse\u001b[0m\u001b[0;34m)\u001b[0m\u001b[0;34m\u001b[0m\u001b[0;34m\u001b[0m\u001b[0m\n\u001b[0m\u001b[1;32m     32\u001b[0m \u001b[0mprint\u001b[0m\u001b[0;34m(\u001b[0m\u001b[0mmodel\u001b[0m\u001b[0;34m.\u001b[0m\u001b[0mparams\u001b[0m\u001b[0;34m)\u001b[0m\u001b[0;34m\u001b[0m\u001b[0;34m\u001b[0m\u001b[0m\n\u001b[1;32m     33\u001b[0m \u001b[0;31m# predicted samples\u001b[0m\u001b[0;34m\u001b[0m\u001b[0;34m\u001b[0m\u001b[0m\n",
      "\u001b[0;32m~/Dropbox/DropBoxRunning/SkewNormal_all/Python_preferences_GP/GPpref/notebooks/../model/abstractModel.py\u001b[0m in \u001b[0;36moptimize_hyperparams\u001b[0;34m(self, num_restarts, niterations, kernel_hypers_fixed, init_f)\u001b[0m\n\u001b[1;32m     45\u001b[0m                                           \u001b[0mself\u001b[0m\u001b[0;34m.\u001b[0m\u001b[0mparams\u001b[0m\u001b[0;34m,\u001b[0m\u001b[0;34m\u001b[0m\u001b[0;34m\u001b[0m\u001b[0m\n\u001b[1;32m     46\u001b[0m                                           self._log_likelihood)\n\u001b[0;32m---> 47\u001b[0;31m             infer.optimize(niterations,\n\u001b[0m\u001b[1;32m     48\u001b[0m                            \u001b[0mkernel_hypers_fixed\u001b[0m\u001b[0;34m=\u001b[0m\u001b[0mkernel_hypers_fixed\u001b[0m\u001b[0;34m,\u001b[0m\u001b[0;34m\u001b[0m\u001b[0;34m\u001b[0m\u001b[0m\n\u001b[1;32m     49\u001b[0m                            init_f=init_f)\n",
      "\u001b[0;32m~/Dropbox/DropBoxRunning/SkewNormal_all/Python_preferences_GP/GPpref/notebooks/../inference/advi_full.py\u001b[0m in \u001b[0;36moptimize\u001b[0;34m(self, niterations, progress, kernel_hypers_fixed, init_f)\u001b[0m\n\u001b[1;32m    223\u001b[0m \u001b[0;34m\u001b[0m\u001b[0m\n\u001b[1;32m    224\u001b[0m         \u001b[0mloglike\u001b[0m \u001b[0;34m=\u001b[0m\u001b[0mself\u001b[0m\u001b[0;34m.\u001b[0m\u001b[0m_log_like\u001b[0m\u001b[0;34m(\u001b[0m\u001b[0;34m)\u001b[0m\u001b[0;34m\u001b[0m\u001b[0;34m\u001b[0m\u001b[0m\n\u001b[0;32m--> 225\u001b[0;31m         f, Sigma, log_kernel_hypers, advi_params = self.advi(niterations,loglike,\n\u001b[0m\u001b[1;32m    226\u001b[0m                                                              \u001b[0minit_params_kernel\u001b[0m\u001b[0;34m,\u001b[0m\u001b[0;34m\u001b[0m\u001b[0;34m\u001b[0m\u001b[0m\n\u001b[1;32m    227\u001b[0m                                                              \u001b[0mkernel_hypers_fixed\u001b[0m\u001b[0;34m=\u001b[0m\u001b[0mkernel_hypers_fixed\u001b[0m\u001b[0;34m,\u001b[0m\u001b[0;34m\u001b[0m\u001b[0;34m\u001b[0m\u001b[0m\n",
      "\u001b[0;32m~/Dropbox/DropBoxRunning/SkewNormal_all/Python_preferences_GP/GPpref/notebooks/../inference/advi_full.py\u001b[0m in \u001b[0;36madvi\u001b[0;34m(self, niterations, loglike, init_params_kernel, progress, kernel_hypers_fixed, diagonal, init_f)\u001b[0m\n\u001b[1;32m    187\u001b[0m         \u001b[0mpbar\u001b[0m \u001b[0;34m=\u001b[0m \u001b[0mtqdm\u001b[0m\u001b[0;34m(\u001b[0m\u001b[0mtotal\u001b[0m \u001b[0;34m=\u001b[0m \u001b[0mniterations\u001b[0m\u001b[0;34m,\u001b[0m \u001b[0mdisable\u001b[0m\u001b[0;34m=\u001b[0m\u001b[0;36m1\u001b[0m\u001b[0;34m-\u001b[0m\u001b[0mprogress\u001b[0m\u001b[0;34m,\u001b[0m \u001b[0mposition\u001b[0m\u001b[0;34m=\u001b[0m\u001b[0;36m0\u001b[0m\u001b[0;34m,\u001b[0m \u001b[0mleave\u001b[0m\u001b[0;34m=\u001b[0m\u001b[0;32mTrue\u001b[0m\u001b[0;34m)\u001b[0m\u001b[0;34m\u001b[0m\u001b[0;34m\u001b[0m\u001b[0m\n\u001b[1;32m    188\u001b[0m         \u001b[0;32mfor\u001b[0m \u001b[0mt\u001b[0m \u001b[0;32min\u001b[0m \u001b[0mrange\u001b[0m\u001b[0;34m(\u001b[0m\u001b[0mniterations\u001b[0m\u001b[0;34m)\u001b[0m\u001b[0;34m:\u001b[0m\u001b[0;34m\u001b[0m\u001b[0;34m\u001b[0m\u001b[0m\n\u001b[0;32m--> 189\u001b[0;31m             \u001b[0mopt_state\u001b[0m \u001b[0;34m=\u001b[0m \u001b[0mupdate\u001b[0m\u001b[0;34m(\u001b[0m\u001b[0mt\u001b[0m\u001b[0;34m,\u001b[0m \u001b[0mopt_state\u001b[0m\u001b[0;34m)\u001b[0m\u001b[0;34m\u001b[0m\u001b[0;34m\u001b[0m\u001b[0m\n\u001b[0m\u001b[1;32m    190\u001b[0m             \u001b[0mparams\u001b[0m \u001b[0;34m=\u001b[0m \u001b[0mget_params\u001b[0m\u001b[0;34m(\u001b[0m\u001b[0mopt_state\u001b[0m\u001b[0;34m)\u001b[0m\u001b[0;34m\u001b[0m\u001b[0;34m\u001b[0m\u001b[0m\n\u001b[1;32m    191\u001b[0m             \u001b[0mpbar\u001b[0m\u001b[0;34m.\u001b[0m\u001b[0mset_description\u001b[0m\u001b[0;34m(\u001b[0m\u001b[0;34mf\" lower bound {objective(params, t)}\"\u001b[0m\u001b[0;34m,\u001b[0m \u001b[0mrefresh\u001b[0m\u001b[0;34m=\u001b[0m\u001b[0;32mTrue\u001b[0m\u001b[0;34m)\u001b[0m\u001b[0;34m\u001b[0m\u001b[0;34m\u001b[0m\u001b[0m\n",
      "    \u001b[0;31m[... skipping hidden 12 frame]\u001b[0m\n",
      "\u001b[0;32m~/Dropbox/DropBoxRunning/SkewNormal_all/Python_preferences_GP/GPpref/notebooks/../inference/advi_full.py\u001b[0m in \u001b[0;36mupdate\u001b[0;34m(i, opt_state)\u001b[0m\n\u001b[1;32m    180\u001b[0m         \u001b[0;32mdef\u001b[0m \u001b[0mupdate\u001b[0m\u001b[0;34m(\u001b[0m\u001b[0mi\u001b[0m\u001b[0;34m,\u001b[0m \u001b[0mopt_state\u001b[0m\u001b[0;34m)\u001b[0m\u001b[0;34m:\u001b[0m\u001b[0;34m\u001b[0m\u001b[0;34m\u001b[0m\u001b[0m\n\u001b[1;32m    181\u001b[0m             \u001b[0mparams\u001b[0m \u001b[0;34m=\u001b[0m \u001b[0mget_params\u001b[0m\u001b[0;34m(\u001b[0m\u001b[0mopt_state\u001b[0m\u001b[0;34m)\u001b[0m\u001b[0;34m\u001b[0m\u001b[0;34m\u001b[0m\u001b[0m\n\u001b[0;32m--> 182\u001b[0;31m             \u001b[0mgradient\u001b[0m \u001b[0;34m=\u001b[0m \u001b[0mgrad\u001b[0m\u001b[0;34m(\u001b[0m\u001b[0mobjective\u001b[0m\u001b[0;34m)\u001b[0m\u001b[0;34m(\u001b[0m\u001b[0mparams\u001b[0m\u001b[0;34m,\u001b[0m \u001b[0mi\u001b[0m\u001b[0;34m)\u001b[0m\u001b[0;34m\u001b[0m\u001b[0;34m\u001b[0m\u001b[0m\n\u001b[0m\u001b[1;32m    183\u001b[0m             \u001b[0;32mreturn\u001b[0m \u001b[0mopt_update\u001b[0m\u001b[0;34m(\u001b[0m\u001b[0mi\u001b[0m\u001b[0;34m,\u001b[0m \u001b[0mgradient\u001b[0m\u001b[0;34m,\u001b[0m \u001b[0mopt_state\u001b[0m\u001b[0;34m)\u001b[0m\u001b[0;34m\u001b[0m\u001b[0;34m\u001b[0m\u001b[0m\n\u001b[1;32m    184\u001b[0m \u001b[0;34m\u001b[0m\u001b[0m\n",
      "    \u001b[0;31m[... skipping hidden 22 frame]\u001b[0m\n",
      "\u001b[0;32m~/Dropbox/DropBoxRunning/SkewNormal_all/Python_preferences_GP/GPpref/notebooks/../inference/advi_full.py\u001b[0m in \u001b[0;36mobjective\u001b[0;34m(params, t)\u001b[0m\n\u001b[1;32m    157\u001b[0m         \u001b[0;32mdef\u001b[0m \u001b[0mobjective\u001b[0m\u001b[0;34m(\u001b[0m\u001b[0mparams\u001b[0m\u001b[0;34m,\u001b[0m \u001b[0mt\u001b[0m\u001b[0;34m)\u001b[0m\u001b[0;34m:\u001b[0m\u001b[0;34m\u001b[0m\u001b[0;34m\u001b[0m\u001b[0m\n\u001b[1;32m    158\u001b[0m             \u001b[0mrng\u001b[0m \u001b[0;34m=\u001b[0m \u001b[0mrandom\u001b[0m\u001b[0;34m.\u001b[0m\u001b[0mPRNGKey\u001b[0m\u001b[0;34m(\u001b[0m\u001b[0mt\u001b[0m\u001b[0;34m)\u001b[0m\u001b[0;34m\u001b[0m\u001b[0;34m\u001b[0m\u001b[0m\n\u001b[0;32m--> 159\u001b[0;31m             \u001b[0;32mreturn\u001b[0m \u001b[0mjnp\u001b[0m\u001b[0;34m.\u001b[0m\u001b[0msum\u001b[0m\u001b[0;34m(\u001b[0m\u001b[0;34m-\u001b[0m\u001b[0mbatch_elbo\u001b[0m\u001b[0;34m(\u001b[0m\u001b[0mtarget_log_density\u001b[0m\u001b[0;34m,\u001b[0m \u001b[0mrng\u001b[0m\u001b[0;34m,\u001b[0m \u001b[0mparams\u001b[0m\u001b[0;34m,\u001b[0m \u001b[0mnum_samples\u001b[0m\u001b[0;34m)\u001b[0m\u001b[0;34m)\u001b[0m\u001b[0;34m\u001b[0m\u001b[0;34m\u001b[0m\u001b[0m\n\u001b[0m\u001b[1;32m    160\u001b[0m \u001b[0;34m\u001b[0m\u001b[0m\n\u001b[1;32m    161\u001b[0m         \u001b[0;32mdef\u001b[0m \u001b[0mcallback\u001b[0m\u001b[0;34m(\u001b[0m\u001b[0mparams\u001b[0m\u001b[0;34m,\u001b[0m \u001b[0mt\u001b[0m\u001b[0;34m)\u001b[0m\u001b[0;34m:\u001b[0m\u001b[0;34m\u001b[0m\u001b[0;34m\u001b[0m\u001b[0m\n",
      "\u001b[0;32m~/Dropbox/DropBoxRunning/SkewNormal_all/Python_preferences_GP/GPpref/notebooks/../inference/advi_full.py\u001b[0m in \u001b[0;36mbatch_elbo\u001b[0;34m(target_log_density, rng, params, num_samples)\u001b[0m\n\u001b[1;32m    150\u001b[0m             \u001b[0mvectorized_elbo\u001b[0m \u001b[0;34m=\u001b[0m \u001b[0mvmap\u001b[0m\u001b[0;34m(\u001b[0m\u001b[0mpartial\u001b[0m\u001b[0;34m(\u001b[0m\u001b[0mexp_likelihood\u001b[0m\u001b[0;34m,\u001b[0m \u001b[0mtarget_log_density\u001b[0m\u001b[0;34m)\u001b[0m\u001b[0;34m,\u001b[0m \u001b[0min_axes\u001b[0m\u001b[0;34m=\u001b[0m\u001b[0;34m(\u001b[0m\u001b[0;36m0\u001b[0m\u001b[0;34m,\u001b[0m \u001b[0;32mNone\u001b[0m\u001b[0;34m,\u001b[0m \u001b[0;32mNone\u001b[0m\u001b[0;34m)\u001b[0m\u001b[0;34m)\u001b[0m\u001b[0;34m\u001b[0m\u001b[0;34m\u001b[0m\u001b[0m\n\u001b[1;32m    151\u001b[0m             \u001b[0mexpected_log_like\u001b[0m \u001b[0;34m=\u001b[0m \u001b[0mjnp\u001b[0m\u001b[0;34m.\u001b[0m\u001b[0mnanmean\u001b[0m\u001b[0;34m(\u001b[0m\u001b[0mvectorized_elbo\u001b[0m\u001b[0;34m(\u001b[0m\u001b[0mrngs\u001b[0m\u001b[0;34m,\u001b[0m \u001b[0mparams\u001b[0m\u001b[0;34m[\u001b[0m\u001b[0;36m0\u001b[0m\u001b[0;34m]\u001b[0m\u001b[0;34m,\u001b[0m \u001b[0mSigma\u001b[0m\u001b[0;34m)\u001b[0m\u001b[0;34m)\u001b[0m\u001b[0;34m\u001b[0m\u001b[0;34m\u001b[0m\u001b[0m\n\u001b[0;32m--> 152\u001b[0;31m             \u001b[0melbo\u001b[0m \u001b[0;34m=\u001b[0m  \u001b[0mexpected_log_like\u001b[0m\u001b[0;34m+\u001b[0m\u001b[0mkl_div\u001b[0m\u001b[0;34m(\u001b[0m\u001b[0mparams\u001b[0m\u001b[0;34m[\u001b[0m\u001b[0;36m0\u001b[0m\u001b[0;34m]\u001b[0m\u001b[0;34m,\u001b[0m\u001b[0mSigma\u001b[0m\u001b[0;34m,\u001b[0m\u001b[0mM\u001b[0m\u001b[0;34m)\u001b[0m\u001b[0;34m\u001b[0m\u001b[0;34m\u001b[0m\u001b[0m\n\u001b[0m\u001b[1;32m    153\u001b[0m             \u001b[0;32mreturn\u001b[0m \u001b[0melbo\u001b[0m\u001b[0;34m\u001b[0m\u001b[0;34m\u001b[0m\u001b[0m\n\u001b[1;32m    154\u001b[0m \u001b[0;34m\u001b[0m\u001b[0m\n",
      "\u001b[0;32m~/Dropbox/DropBoxRunning/SkewNormal_all/Python_preferences_GP/GPpref/notebooks/../inference/advi_full.py\u001b[0m in \u001b[0;36mkl_div\u001b[0;34m(f, Sigma, M)\u001b[0m\n\u001b[1;32m    120\u001b[0m             \u001b[0mt3\u001b[0m \u001b[0;34m=\u001b[0m \u001b[0;34m-\u001b[0m\u001b[0mf\u001b[0m\u001b[0;34m.\u001b[0m\u001b[0mT\u001b[0m\u001b[0;34m@\u001b[0m\u001b[0mjax\u001b[0m\u001b[0;34m.\u001b[0m\u001b[0mnumpy\u001b[0m\u001b[0;34m.\u001b[0m\u001b[0mlinalg\u001b[0m\u001b[0;34m.\u001b[0m\u001b[0msolve\u001b[0m\u001b[0;34m(\u001b[0m\u001b[0mM\u001b[0m\u001b[0;34m,\u001b[0m \u001b[0mf\u001b[0m\u001b[0;34m)\u001b[0m\u001b[0;34m\u001b[0m\u001b[0;34m\u001b[0m\u001b[0m\n\u001b[1;32m    121\u001b[0m             \u001b[0mkl\u001b[0m \u001b[0;34m=\u001b[0m \u001b[0;36m0.5\u001b[0m\u001b[0;34m*\u001b[0m\u001b[0;34m(\u001b[0m\u001b[0mt1\u001b[0m \u001b[0;34m+\u001b[0m \u001b[0mt2\u001b[0m \u001b[0;34m+\u001b[0m \u001b[0mt3\u001b[0m\u001b[0;34m)\u001b[0m\u001b[0;34m\u001b[0m\u001b[0;34m\u001b[0m\u001b[0m\n\u001b[0;32m--> 122\u001b[0;31m             \u001b[0maaa\u001b[0m\u001b[0;34m\u001b[0m\u001b[0;34m\u001b[0m\u001b[0m\n\u001b[0m\u001b[1;32m    123\u001b[0m             \u001b[0;32mreturn\u001b[0m \u001b[0mjax\u001b[0m\u001b[0;34m.\u001b[0m\u001b[0mnumpy\u001b[0m\u001b[0;34m.\u001b[0m\u001b[0msum\u001b[0m\u001b[0;34m(\u001b[0m\u001b[0mkl\u001b[0m\u001b[0;34m)\u001b[0m\u001b[0;34m\u001b[0m\u001b[0;34m\u001b[0m\u001b[0m\n\u001b[1;32m    124\u001b[0m \u001b[0;34m\u001b[0m\u001b[0m\n",
      "\u001b[0;31mNameError\u001b[0m: name 'aaa' is not defined"
     ]
    }
   ],
   "source": [
    "#choice data\n",
    "data={'X': X,#objects\n",
    "      'CA': CA,#choiced objects\n",
    "      'RA': RA,#rejected objects\n",
    "      'dimA':dimA# dimension of the choice set\n",
    "          }\n",
    "\n",
    "# number of latent utilities\n",
    "latent_dim=2\n",
    "\n",
    "# define kernel \n",
    "Kernel = jaxrbf.RBF\n",
    "#hyperparameters of the kernel\n",
    "params = {'lengthscale_0': {'value':1.0*np.ones(data[\"X\"].shape[1],float), \n",
    "                            'range':np.vstack([[0.1, 3.0]]*data[\"X\"].shape[1]),\n",
    "                            'transform': paramz.logexp()},\n",
    "                 'variance_0': {'value':np.array([1.0]), \n",
    "                            'range':np.vstack([[1.0, 200.0]]),\n",
    "                            'transform': paramz.logexp()},\n",
    "          'lengthscale_1': {'value':1.0*np.ones(data[\"X\"].shape[1],float), \n",
    "                            'range':np.vstack([[0.1, 3.0]]*data[\"X\"].shape[1]),\n",
    "                            'transform': paramz.logexp()},\n",
    "                 'variance_1': {'value':np.array([1.0]), \n",
    "                            'range':np.vstack([[1.0, 200.0]]),\n",
    "                            'transform': paramz.logexp()}\n",
    "              }\n",
    "\n",
    "# define choice model \n",
    "model = erroneousChoice(data,Kernel,params,latent_dim, scale=5)\n",
    "# compute variational inference and estimate hyperparameters\n",
    "model.optimize_hyperparams(niterations=5000,kernel_hypers_fixed=False)\n",
    "print(model.params)\n",
    "# predicted samples\n",
    "predictions = model.predict_VI(Xpred)\n",
    "#it returns the joint mean (predictions[0]) and joint covariance matrix (predictions[1]) for the latent utilities. They have"
   ]
  },
  {
   "cell_type": "code",
   "execution_count": 59,
   "id": "1ebafb8c",
   "metadata": {},
   "outputs": [
    {
     "data": {
      "text/plain": [
       "23.025850929940457"
      ]
     },
     "execution_count": 59,
     "metadata": {},
     "output_type": "execute_result"
    }
   ],
   "source": [
    "np.log(1e10)"
   ]
  },
  {
   "cell_type": "code",
   "execution_count": 74,
   "id": "4e55591f",
   "metadata": {},
   "outputs": [
    {
     "name": "stderr",
     "output_type": "stream",
     "text": [
      "<ipython-input-74-c305fd074104>:5: FutureWarning: hdi currently interprets 2d data as (draw, shape) but this will change in a future release to (chain, draw) for coherence with other functions\n",
      "  cred_int1 = az.hdi(samples1)\n"
     ]
    },
    {
     "data": {
      "image/png": "[encoded data removed]",
      "text/plain": [
       "<Figure size 432x288 with 1 Axes>"
      ]
     },
     "metadata": {
      "needs_background": "light"
     },
     "output_type": "display_data"
    }
   ],
   "source": [
    "import arviz as az\n",
    "from scipy.stats import multivariate_normal\n",
    "\n",
    "samples1 = multivariate_normal( predictions[0][:,0], predictions[1]+1e-2*np.eye(predictions[1].shape[0])).rvs(4000)\n",
    "cred_int1 = az.hdi(samples1)\n",
    "\n",
    "mean1=np.mean(samples1,axis=0)[0:Xpred.shape[0]]\n",
    "mean2=np.mean(samples1,axis=0)[Xpred.shape[0]:]\n",
    "plt.plot(Xpred[:,0],mean1,color='C0',label=\"$E[u_1]$\")\n",
    "plt.fill_between(Xpred[:,0],cred_int1[0:Xpred.shape[0],0],cred_int1[0:Xpred.shape[0],1],color='C0', linestyle=':',alpha=0.15)\n",
    "plt.plot(Xpred[:,0],mean2,color='C1',label=\"$E[u_2]$\")\n",
    "plt.fill_between(Xpred[:,0],cred_int1[Xpred.shape[0]:,0],cred_int1[Xpred.shape[0]:,1],color='C1', linestyle=':',alpha=0.15)\n",
    "\n",
    "plt.xlabel(\"x\", fontsize=16)\n",
    "plt.ylabel(\"u\", fontsize=16, rotation=0)\n",
    "plt.legend(fontsize=16,loc='lower left')\n",
    "plt.savefig(\"EstimatedCupcakes.pdf\")"
   ]
  },
  {
   "cell_type": "code",
   "execution_count": 81,
   "id": "08b721e8",
   "metadata": {},
   "outputs": [
    {
     "data": {
      "image/png": "[encoded data removed]",
      "text/plain": [
       "<Figure size 432x288 with 1 Axes>"
      ]
     },
     "metadata": {
      "needs_background": "light"
     },
     "output_type": "display_data"
    }
   ],
   "source": [
    "import arviz as az\n",
    "from scipy.stats import multivariate_normal\n",
    "mean = predictions[0]\n",
    "Sigma = predictions[1]\n",
    "#first utility\n",
    "samples = multivariate_normal(mean[:,0],Sigma+1e-2*np.eye(Sigma.shape[0])).rvs(100)\n",
    "i = 5\n",
    "u1 = samples[i][0:Xpred.shape[0]]\n",
    "u2 = samples[i][Xpred.shape[0]:]\n",
    "plt.plot(Xpred[:,0],u1,color='C0',label=\"$E[u_1]$\")\n",
    "plt.plot(Xpred[:,0],u2,color='C1',label=\"$E[u_2]$\")\n",
    "plt.legend()\n",
    "plt.savefig(\"Estimatedcupcakesamples.pdf\")"
   ]
  },
  {
   "cell_type": "code",
   "execution_count": 77,
   "id": "9ae30552",
   "metadata": {},
   "outputs": [
    {
     "data": {
      "text/plain": [
       "Array([ 1.30654839e+00,  1.30736549e+00,  1.30810464e+00,  1.30876708e+00,\n",
       "        1.30935408e+00,  1.30986697e+00,  1.31030707e+00,  1.31067573e+00,\n",
       "        1.31097433e+00,  1.31120428e+00,  1.31136698e+00,  1.31146388e+00,\n",
       "        1.31149643e+00,  1.31146612e+00,  1.31137443e+00,  1.31122288e+00,\n",
       "        1.31101298e+00,  1.31074626e+00,  1.31042428e+00,  1.31004860e+00,\n",
       "        1.30962077e+00,  1.30914239e+00,  1.30861503e+00,  1.30804028e+00,\n",
       "        1.30741975e+00,  1.30675503e+00,  1.30604773e+00,  1.30529947e+00,\n",
       "        1.30451185e+00,  1.30368647e+00,  1.30282495e+00,  1.30192890e+00,\n",
       "        1.30099992e+00,  1.30003962e+00,  1.29904959e+00,  1.29803142e+00,\n",
       "        1.29698671e+00,  1.29591701e+00,  1.29482392e+00,  1.29370898e+00,\n",
       "        1.29257375e+00,  1.29141976e+00,  1.29024855e+00,  1.28906162e+00,\n",
       "        1.28786048e+00,  1.28664662e+00,  1.28542150e+00,  1.28418657e+00,\n",
       "        1.28294329e+00,  1.28169306e+00,  1.28043729e+00,  1.27917736e+00,\n",
       "        1.27791464e+00,  1.27665047e+00,  1.27538617e+00,  1.27412304e+00,\n",
       "        1.27286236e+00,  1.27160538e+00,  1.27035334e+00,  1.26910745e+00,\n",
       "        1.26786888e+00,  1.26663879e+00,  1.26541833e+00,  1.26420859e+00,\n",
       "        1.26301066e+00,  1.26182558e+00,  1.26065438e+00,  1.25949807e+00,\n",
       "        1.25835761e+00,  1.25723393e+00,  1.25612797e+00,  1.25504058e+00,\n",
       "        1.25397264e+00,  1.25292496e+00,  1.25189834e+00,  1.25089354e+00,\n",
       "        1.24991129e+00,  1.24895230e+00,  1.24801723e+00,  1.24710672e+00,\n",
       "        1.24622139e+00,  1.24536180e+00,  1.24452850e+00,  1.24372201e+00,\n",
       "        1.24294280e+00,  1.24219133e+00,  1.24146800e+00,  1.24077320e+00,\n",
       "        1.24010730e+00,  1.23947058e+00,  1.23886337e+00,  1.23828589e+00,\n",
       "        1.23773838e+00,  1.23722102e+00,  1.23673398e+00,  1.23627737e+00,\n",
       "        1.23585128e+00,  1.23545579e+00,  1.23509090e+00,  1.23475663e+00,\n",
       "        1.23445292e+00,  1.23417972e+00,  1.23393692e+00,  1.23372440e+00,\n",
       "        1.23354197e+00,  1.23338946e+00,  1.23326663e+00,  1.23317322e+00,\n",
       "        1.23310895e+00,  1.23307350e+00,  1.23306651e+00,  1.23308761e+00,\n",
       "        1.23313637e+00,  1.23321237e+00,  1.23331514e+00,  1.23344416e+00,\n",
       "        1.23359892e+00,  1.23377885e+00,  1.23398337e+00,  1.23421186e+00,\n",
       "        1.23446368e+00,  1.23473816e+00,  1.23503459e+00,  1.23535226e+00,\n",
       "        1.23569042e+00,  1.23604827e+00,  1.23642503e+00,  1.23681985e+00,\n",
       "        1.23723189e+00,  1.23766026e+00,  1.23810406e+00,  1.23856237e+00,\n",
       "        1.23903422e+00,  1.23951864e+00,  1.24001463e+00,  1.24052119e+00,\n",
       "        1.24103725e+00,  1.24156177e+00,  1.24209365e+00,  1.24263179e+00,\n",
       "        1.24317507e+00,  1.24372234e+00,  1.24427245e+00,  1.24482421e+00,\n",
       "        1.24537643e+00,  1.24592789e+00,  1.24647737e+00,  1.24702361e+00,\n",
       "        1.24756536e+00,  1.24810133e+00,  1.24863025e+00,  1.24915081e+00,\n",
       "        1.24966170e+00,  1.25016158e+00,  1.25064912e+00,  1.25112298e+00,\n",
       "        1.25158179e+00,  1.25202418e+00,  1.25244880e+00,  1.25285424e+00,\n",
       "        1.25323913e+00,  1.25360206e+00,  1.25394165e+00,  1.25425647e+00,\n",
       "        1.25454513e+00,  1.25480622e+00,  1.25503832e+00,  1.25524001e+00,\n",
       "        1.25540989e+00,  1.25554654e+00,  1.25564855e+00,  1.25571450e+00,\n",
       "        1.25574299e+00,  1.25573262e+00,  1.25568199e+00,  1.25558970e+00,\n",
       "        1.25545437e+00,  1.25527462e+00,  1.25504908e+00,  1.25477638e+00,\n",
       "        1.25445518e+00,  1.25408413e+00,  1.25366191e+00,  1.25318719e+00,\n",
       "        1.25265868e+00,  1.25207509e+00,  1.25143513e+00,  1.25073756e+00,\n",
       "        1.24998114e+00,  1.24916464e+00,  1.24828686e+00,  1.24734661e+00,\n",
       "        1.24634274e+00,  1.24527409e+00,  1.24413955e+00,  1.24293802e+00,\n",
       "        1.24166843e+00,  1.24032973e+00,  1.23892089e+00,  1.23744091e+00,\n",
       "        6.15181860e-03,  5.76730787e-03,  5.38126137e-03,  4.99407594e-03,\n",
       "        4.60615196e-03,  4.21789275e-03,  3.82970394e-03,  3.44199282e-03,\n",
       "        3.05516766e-03,  2.66963708e-03,  2.28580935e-03,  1.90409173e-03,\n",
       "        1.52488976e-03,  1.14860660e-03,  7.75642308e-04,  4.06393185e-04,\n",
       "        4.12510509e-05, -3.19397427e-04, -6.75171425e-04, -1.02569665e-03,\n",
       "       -1.37060598e-03, -1.70954021e-03, -2.04214859e-03, -2.36808960e-03,\n",
       "       -2.68703148e-03, -2.99865291e-03, -3.30264359e-03, -3.59870483e-03,\n",
       "       -3.88655014e-03, -4.16590576e-03, -4.43651118e-03, -4.69811968e-03,\n",
       "       -4.95049881e-03, -5.19343080e-03, -5.42671308e-03, -5.65015861e-03,\n",
       "       -5.86359629e-03, -6.06687134e-03, -6.25984556e-03, -6.44239769e-03,\n",
       "       -6.61442361e-03, -6.77583659e-03, -6.92656750e-03, -7.06656494e-03,\n",
       "       -7.19579539e-03, -7.31424329e-03, -7.42191110e-03, -7.51881931e-03,\n",
       "       -7.60500646e-03, -7.68052904e-03, -7.74546144e-03, -7.79989582e-03,\n",
       "       -7.84394194e-03, -7.87772699e-03, -7.90139534e-03, -7.91510829e-03,\n",
       "       -7.91904377e-03, -7.91339601e-03, -7.89837514e-03, -7.87420688e-03,\n",
       "       -7.84113200e-03, -7.79940594e-03, -7.74929829e-03, -7.69109227e-03,\n",
       "       -7.62508417e-03, -7.55158281e-03, -7.47090891e-03, -7.38339444e-03,\n",
       "       -7.28938204e-03, -7.18922429e-03, -7.08328303e-03, -6.97192866e-03,\n",
       "       -6.85553942e-03, -6.73450060e-03, -6.60920384e-03, -6.48004633e-03,\n",
       "       -6.34742999e-03, -6.21176077e-03, -6.07344775e-03, -5.93290240e-03,\n",
       "       -5.79053774e-03, -5.64676754e-03, -5.50200551e-03, -5.35666446e-03,\n",
       "       -5.21115555e-03, -5.06588740e-03, -4.92126538e-03, -4.77769077e-03,\n",
       "       -4.63555998e-03, -4.49526381e-03, -4.35718668e-03, -4.22170588e-03,\n",
       "       -4.08919085e-03, -3.96000251e-03, -3.83449253e-03, -3.71300267e-03,\n",
       "       -3.59586418e-03, -3.48339713e-03, -3.37590985e-03, -3.27369835e-03,\n",
       "       -3.17704579e-03, -3.08622196e-03, -3.00148281e-03, -2.92306998e-03,\n",
       "       -2.85121041e-03, -2.78611592e-03, -2.72798290e-03, -2.67699194e-03,\n",
       "       -2.63330759e-03, -2.59707806e-03, -2.56843506e-03, -2.54749359e-03,\n",
       "       -2.53435177e-03, -2.52909077e-03, -2.53177475e-03, -2.54245074e-03,\n",
       "       -2.56114875e-03, -2.58788172e-03, -2.62264559e-03, -2.66541948e-03,\n",
       "       -2.71616574e-03, -2.77483015e-03, -2.84134216e-03, -2.91561508e-03,\n",
       "       -2.99754637e-03, -3.08701793e-03, -3.18389645e-03, -3.28803376e-03,\n",
       "       -3.39926719e-03, -3.51742004e-03, -3.64230196e-03, -3.77370947e-03,\n",
       "       -3.91142640e-03, -4.05522445e-03, -4.20486370e-03, -4.36009313e-03,\n",
       "       -4.52065126e-03, -4.68626667e-03, -4.85665866e-03, -5.03153783e-03,\n",
       "       -5.21060670e-03, -5.39356042e-03, -5.58008733e-03, -5.76986968e-03,\n",
       "       -5.96258427e-03, -6.15790314e-03, -6.35549422e-03, -6.55502203e-03,\n",
       "       -6.75614832e-03, -6.95853280e-03, -7.16183376e-03, -7.36570878e-03,\n",
       "       -7.56981536e-03, -7.77381161e-03, -7.97735688e-03, -8.18011239e-03,\n",
       "       -8.38174189e-03, -8.58191227e-03, -8.78029413e-03, -8.97656242e-03,\n",
       "       -9.17039699e-03, -9.36148315e-03, -9.54951220e-03, -9.73418200e-03,\n",
       "       -9.91519742e-03, -1.00922708e-02, -1.02651227e-02, -1.04334817e-02,\n",
       "       -1.05970855e-02, -1.07556810e-02, -1.09090247e-02, -1.10568831e-02,\n",
       "       -1.11990329e-02, -1.13352615e-02, -1.14653670e-02, -1.15891588e-02,\n",
       "       -1.17064575e-02, -1.18170955e-02, -1.19209165e-02, -1.20177765e-02,\n",
       "       -1.21075433e-02, -1.21900967e-02, -1.22653288e-02, -1.23331439e-02,\n",
       "       -1.23934586e-02, -1.24462015e-02, -1.24913138e-02, -1.25287486e-02,\n",
       "       -1.25584712e-02, -1.25804587e-02, -1.25947005e-02, -1.26011975e-02,\n",
       "       -1.25999621e-02, -1.25910185e-02, -1.25744018e-02, -1.25501582e-02,\n",
       "       -1.25183448e-02, -1.24790292e-02, -1.24322893e-02, -1.23782129e-02],      dtype=float64)"
      ]
     },
     "execution_count": 77,
     "metadata": {},
     "output_type": "execute_result"
    }
   ],
   "source": [
    "Sigma[0,:]"
   ]
  },
  {
   "cell_type": "code",
   "execution_count": null,
   "id": "51aaccb2",
   "metadata": {},
   "outputs": [],
   "source": [
    "## Elliptical slice sampler\n"
   ]
  },
  {
   "cell_type": "code",
   "execution_count": 6,
   "id": "0eeaf473",
   "metadata": {},
   "outputs": [
    {
     "name": "stderr",
     "output_type": "stream",
     "text": [
      "100%|██████████| 8000/8000 [04:40<00:00, 28.52it/s]\n"
     ]
    }
   ],
   "source": [
    "model.sample()\n",
    "samples=model.predict(Xpred)\n"
   ]
  },
  {
   "cell_type": "code",
   "execution_count": 20,
   "id": "4bd036c9",
   "metadata": {},
   "outputs": [],
   "source": [
    "samples1.shape\n",
    "import matplotlib.pyplot as plt"
   ]
  },
  {
   "cell_type": "code",
   "execution_count": 8,
   "id": "ec67c371",
   "metadata": {},
   "outputs": [
    {
     "name": "stderr",
     "output_type": "stream",
     "text": [
      "<ipython-input-8-d1ff2e4d66e6>:4: FutureWarning: hdi currently interprets 2d data as (draw, shape) but this will change in a future release to (chain, draw) for coherence with other functions\n",
      "  cred_int1 = az.hdi(np.array(samples1).T)\n",
      "<ipython-input-8-d1ff2e4d66e6>:8: FutureWarning: hdi currently interprets 2d data as (draw, shape) but this will change in a future release to (chain, draw) for coherence with other functions\n",
      "  cred_int2 = az.hdi(np.array(samples2).T)\n"
     ]
    },
    {
     "data": {
      "image/png": "[encoded data removed]",
      "text/plain": [
       "<Figure size 432x288 with 1 Axes>"
      ]
     },
     "metadata": {
      "needs_background": "light"
     },
     "output_type": "display_data"
    }
   ],
   "source": [
    "#first utility\n",
    "samples1 = samples[0:Xpred.shape[0]]\n",
    "mean1=np.mean(samples1,axis=1)\n",
    "cred_int1 = az.hdi(np.array(samples1).T)\n",
    "#second utility\n",
    "samples2 = samples[Xpred.shape[0]:]\n",
    "mean2=np.mean(samples2,axis=1)\n",
    "cred_int2 = az.hdi(np.array(samples2).T)\n",
    "\n",
    "plt.plot(Xpred[:,0],mean1,color='C0',label=\"$E[u_1]$\")\n",
    "plt.fill_between(Xpred[:,0],cred_int1[:,0],cred_int1[:,1],color='C0', linestyle=':',alpha=0.15)\n",
    "plt.plot(Xpred[:,0],mean2,color='C1',label=\"$E[u_2]$\")\n",
    "plt.fill_between(Xpred[:,0],cred_int2[:,0],cred_int2[:,1],color='C1', linestyle=':',alpha=0.15)\n",
    "plt.xlabel(\"x\", fontsize=16)\n",
    "plt.ylabel(\"u\", fontsize=16, rotation=0)\n",
    "plt.legend(fontsize=16,loc='lower left')\n",
    "plt.savefig(\"EstimatedCupcakesESS.pdf\")"
   ]
  },
  {
   "cell_type": "code",
   "execution_count": 25,
   "id": "8f7393ce",
   "metadata": {},
   "outputs": [
    {
     "ename": "ValueError",
     "evalue": "Only callable can be used as callback",
     "output_type": "error",
     "traceback": [
      "\u001b[0;31m---------------------------------------------------------------------------\u001b[0m",
      "\u001b[0;31mValueError\u001b[0m                                Traceback (most recent call last)",
      "\u001b[0;32m~/anaconda3/envs/myenv/lib/python3.9/site-packages/IPython/core/formatters.py\u001b[0m in \u001b[0;36m__call__\u001b[0;34m(self, obj)\u001b[0m\n\u001b[1;32m    700\u001b[0m                 \u001b[0mtype_pprinters\u001b[0m\u001b[0;34m=\u001b[0m\u001b[0mself\u001b[0m\u001b[0;34m.\u001b[0m\u001b[0mtype_printers\u001b[0m\u001b[0;34m,\u001b[0m\u001b[0;34m\u001b[0m\u001b[0;34m\u001b[0m\u001b[0m\n\u001b[1;32m    701\u001b[0m                 deferred_pprinters=self.deferred_printers)\n\u001b[0;32m--> 702\u001b[0;31m             \u001b[0mprinter\u001b[0m\u001b[0;34m.\u001b[0m\u001b[0mpretty\u001b[0m\u001b[0;34m(\u001b[0m\u001b[0mobj\u001b[0m\u001b[0;34m)\u001b[0m\u001b[0;34m\u001b[0m\u001b[0;34m\u001b[0m\u001b[0m\n\u001b[0m\u001b[1;32m    703\u001b[0m             \u001b[0mprinter\u001b[0m\u001b[0;34m.\u001b[0m\u001b[0mflush\u001b[0m\u001b[0;34m(\u001b[0m\u001b[0;34m)\u001b[0m\u001b[0;34m\u001b[0m\u001b[0;34m\u001b[0m\u001b[0m\n\u001b[1;32m    704\u001b[0m             \u001b[0;32mreturn\u001b[0m \u001b[0mstream\u001b[0m\u001b[0;34m.\u001b[0m\u001b[0mgetvalue\u001b[0m\u001b[0;34m(\u001b[0m\u001b[0;34m)\u001b[0m\u001b[0;34m\u001b[0m\u001b[0;34m\u001b[0m\u001b[0m\n",
      "\u001b[0;32m~/anaconda3/envs/myenv/lib/python3.9/site-packages/IPython/lib/pretty.py\u001b[0m in \u001b[0;36mpretty\u001b[0;34m(self, obj)\u001b[0m\n\u001b[1;32m    392\u001b[0m                         \u001b[0;32mif\u001b[0m \u001b[0mcls\u001b[0m \u001b[0;32mis\u001b[0m \u001b[0;32mnot\u001b[0m \u001b[0mobject\u001b[0m\u001b[0;31m \u001b[0m\u001b[0;31m\\\u001b[0m\u001b[0;34m\u001b[0m\u001b[0;34m\u001b[0m\u001b[0m\n\u001b[1;32m    393\u001b[0m                                 \u001b[0;32mand\u001b[0m \u001b[0mcallable\u001b[0m\u001b[0;34m(\u001b[0m\u001b[0mcls\u001b[0m\u001b[0;34m.\u001b[0m\u001b[0m__dict__\u001b[0m\u001b[0;34m.\u001b[0m\u001b[0mget\u001b[0m\u001b[0;34m(\u001b[0m\u001b[0;34m'__repr__'\u001b[0m\u001b[0;34m)\u001b[0m\u001b[0;34m)\u001b[0m\u001b[0;34m:\u001b[0m\u001b[0;34m\u001b[0m\u001b[0;34m\u001b[0m\u001b[0m\n\u001b[0;32m--> 394\u001b[0;31m                             \u001b[0;32mreturn\u001b[0m \u001b[0m_repr_pprint\u001b[0m\u001b[0;34m(\u001b[0m\u001b[0mobj\u001b[0m\u001b[0;34m,\u001b[0m \u001b[0mself\u001b[0m\u001b[0;34m,\u001b[0m \u001b[0mcycle\u001b[0m\u001b[0;34m)\u001b[0m\u001b[0;34m\u001b[0m\u001b[0;34m\u001b[0m\u001b[0m\n\u001b[0m\u001b[1;32m    395\u001b[0m \u001b[0;34m\u001b[0m\u001b[0m\n\u001b[1;32m    396\u001b[0m             \u001b[0;32mreturn\u001b[0m \u001b[0m_default_pprint\u001b[0m\u001b[0;34m(\u001b[0m\u001b[0mobj\u001b[0m\u001b[0;34m,\u001b[0m \u001b[0mself\u001b[0m\u001b[0;34m,\u001b[0m \u001b[0mcycle\u001b[0m\u001b[0;34m)\u001b[0m\u001b[0;34m\u001b[0m\u001b[0;34m\u001b[0m\u001b[0m\n",
      "\u001b[0;32m~/anaconda3/envs/myenv/lib/python3.9/site-packages/IPython/lib/pretty.py\u001b[0m in \u001b[0;36m_repr_pprint\u001b[0;34m(obj, p, cycle)\u001b[0m\n\u001b[1;32m    698\u001b[0m     \u001b[0;34m\"\"\"A pprint that just redirects to the normal repr function.\"\"\"\u001b[0m\u001b[0;34m\u001b[0m\u001b[0;34m\u001b[0m\u001b[0m\n\u001b[1;32m    699\u001b[0m     \u001b[0;31m# Find newlines and replace them with p.break_()\u001b[0m\u001b[0;34m\u001b[0m\u001b[0;34m\u001b[0m\u001b[0m\n\u001b[0;32m--> 700\u001b[0;31m     \u001b[0moutput\u001b[0m \u001b[0;34m=\u001b[0m \u001b[0mrepr\u001b[0m\u001b[0;34m(\u001b[0m\u001b[0mobj\u001b[0m\u001b[0;34m)\u001b[0m\u001b[0;34m\u001b[0m\u001b[0;34m\u001b[0m\u001b[0m\n\u001b[0m\u001b[1;32m    701\u001b[0m     \u001b[0mlines\u001b[0m \u001b[0;34m=\u001b[0m \u001b[0moutput\u001b[0m\u001b[0;34m.\u001b[0m\u001b[0msplitlines\u001b[0m\u001b[0;34m(\u001b[0m\u001b[0;34m)\u001b[0m\u001b[0;34m\u001b[0m\u001b[0;34m\u001b[0m\u001b[0m\n\u001b[1;32m    702\u001b[0m     \u001b[0;32mwith\u001b[0m \u001b[0mp\u001b[0m\u001b[0;34m.\u001b[0m\u001b[0mgroup\u001b[0m\u001b[0;34m(\u001b[0m\u001b[0;34m)\u001b[0m\u001b[0;34m:\u001b[0m\u001b[0;34m\u001b[0m\u001b[0;34m\u001b[0m\u001b[0m\n",
      "\u001b[0;32m~/anaconda3/envs/myenv/lib/python3.9/site-packages/jax/_src/array.py\u001b[0m in \u001b[0;36m__repr__\u001b[0;34m(self)\u001b[0m\n\u001b[1;32m    350\u001b[0m     \u001b[0;32mif\u001b[0m \u001b[0mself\u001b[0m\u001b[0;34m.\u001b[0m\u001b[0mis_fully_addressable\u001b[0m \u001b[0;32mor\u001b[0m \u001b[0mself\u001b[0m\u001b[0;34m.\u001b[0m\u001b[0mis_fully_replicated\u001b[0m\u001b[0;34m:\u001b[0m\u001b[0;34m\u001b[0m\u001b[0;34m\u001b[0m\u001b[0m\n\u001b[1;32m    351\u001b[0m       \u001b[0mline_width\u001b[0m \u001b[0;34m=\u001b[0m \u001b[0mnp\u001b[0m\u001b[0;34m.\u001b[0m\u001b[0mget_printoptions\u001b[0m\u001b[0;34m(\u001b[0m\u001b[0;34m)\u001b[0m\u001b[0;34m[\u001b[0m\u001b[0;34m\"linewidth\"\u001b[0m\u001b[0;34m]\u001b[0m\u001b[0;34m\u001b[0m\u001b[0;34m\u001b[0m\u001b[0m\n\u001b[0;32m--> 352\u001b[0;31m       s = np.array2string(self._value, prefix=prefix, suffix=',',\n\u001b[0m\u001b[1;32m    353\u001b[0m                           separator=', ', max_line_width=line_width)\n\u001b[1;32m    354\u001b[0m       \u001b[0mlast_line_len\u001b[0m \u001b[0;34m=\u001b[0m \u001b[0mlen\u001b[0m\u001b[0;34m(\u001b[0m\u001b[0ms\u001b[0m\u001b[0;34m)\u001b[0m \u001b[0;34m-\u001b[0m \u001b[0ms\u001b[0m\u001b[0;34m.\u001b[0m\u001b[0mrfind\u001b[0m\u001b[0;34m(\u001b[0m\u001b[0;34m'\\n'\u001b[0m\u001b[0;34m)\u001b[0m \u001b[0;34m+\u001b[0m \u001b[0;36m1\u001b[0m\u001b[0;34m\u001b[0m\u001b[0;34m\u001b[0m\u001b[0m\n",
      "\u001b[0;32m~/anaconda3/envs/myenv/lib/python3.9/site-packages/numpy/core/arrayprint.py\u001b[0m in \u001b[0;36marray2string\u001b[0;34m(a, max_line_width, precision, suppress_small, separator, prefix, style, formatter, threshold, edgeitems, sign, floatmode, suffix, legacy)\u001b[0m\n\u001b[1;32m    734\u001b[0m         \u001b[0;32mreturn\u001b[0m \u001b[0;34m\"[]\"\u001b[0m\u001b[0;34m\u001b[0m\u001b[0;34m\u001b[0m\u001b[0m\n\u001b[1;32m    735\u001b[0m \u001b[0;34m\u001b[0m\u001b[0m\n\u001b[0;32m--> 736\u001b[0;31m     \u001b[0;32mreturn\u001b[0m \u001b[0m_array2string\u001b[0m\u001b[0;34m(\u001b[0m\u001b[0ma\u001b[0m\u001b[0;34m,\u001b[0m \u001b[0moptions\u001b[0m\u001b[0;34m,\u001b[0m \u001b[0mseparator\u001b[0m\u001b[0;34m,\u001b[0m \u001b[0mprefix\u001b[0m\u001b[0;34m)\u001b[0m\u001b[0;34m\u001b[0m\u001b[0;34m\u001b[0m\u001b[0m\n\u001b[0m\u001b[1;32m    737\u001b[0m \u001b[0;34m\u001b[0m\u001b[0m\n\u001b[1;32m    738\u001b[0m \u001b[0;34m\u001b[0m\u001b[0m\n",
      "\u001b[0;32m~/anaconda3/envs/myenv/lib/python3.9/site-packages/numpy/core/arrayprint.py\u001b[0m in \u001b[0;36mwrapper\u001b[0;34m(self, *args, **kwargs)\u001b[0m\n\u001b[1;32m    511\u001b[0m             \u001b[0mrepr_running\u001b[0m\u001b[0;34m.\u001b[0m\u001b[0madd\u001b[0m\u001b[0;34m(\u001b[0m\u001b[0mkey\u001b[0m\u001b[0;34m)\u001b[0m\u001b[0;34m\u001b[0m\u001b[0;34m\u001b[0m\u001b[0m\n\u001b[1;32m    512\u001b[0m             \u001b[0;32mtry\u001b[0m\u001b[0;34m:\u001b[0m\u001b[0;34m\u001b[0m\u001b[0;34m\u001b[0m\u001b[0m\n\u001b[0;32m--> 513\u001b[0;31m                 \u001b[0;32mreturn\u001b[0m \u001b[0mf\u001b[0m\u001b[0;34m(\u001b[0m\u001b[0mself\u001b[0m\u001b[0;34m,\u001b[0m \u001b[0;34m*\u001b[0m\u001b[0margs\u001b[0m\u001b[0;34m,\u001b[0m \u001b[0;34m**\u001b[0m\u001b[0mkwargs\u001b[0m\u001b[0;34m)\u001b[0m\u001b[0;34m\u001b[0m\u001b[0;34m\u001b[0m\u001b[0m\n\u001b[0m\u001b[1;32m    514\u001b[0m             \u001b[0;32mfinally\u001b[0m\u001b[0;34m:\u001b[0m\u001b[0;34m\u001b[0m\u001b[0;34m\u001b[0m\u001b[0m\n\u001b[1;32m    515\u001b[0m                 \u001b[0mrepr_running\u001b[0m\u001b[0;34m.\u001b[0m\u001b[0mdiscard\u001b[0m\u001b[0;34m(\u001b[0m\u001b[0mkey\u001b[0m\u001b[0;34m)\u001b[0m\u001b[0;34m\u001b[0m\u001b[0;34m\u001b[0m\u001b[0m\n",
      "\u001b[0;32m~/anaconda3/envs/myenv/lib/python3.9/site-packages/numpy/core/arrayprint.py\u001b[0m in \u001b[0;36m_array2string\u001b[0;34m(a, options, separator, prefix)\u001b[0m\n\u001b[1;32m    537\u001b[0m \u001b[0;34m\u001b[0m\u001b[0m\n\u001b[1;32m    538\u001b[0m     \u001b[0;31m# find the right formatting function for the array\u001b[0m\u001b[0;34m\u001b[0m\u001b[0;34m\u001b[0m\u001b[0m\n\u001b[0;32m--> 539\u001b[0;31m     \u001b[0mformat_function\u001b[0m \u001b[0;34m=\u001b[0m \u001b[0m_get_format_function\u001b[0m\u001b[0;34m(\u001b[0m\u001b[0mdata\u001b[0m\u001b[0;34m,\u001b[0m \u001b[0;34m**\u001b[0m\u001b[0moptions\u001b[0m\u001b[0;34m)\u001b[0m\u001b[0;34m\u001b[0m\u001b[0;34m\u001b[0m\u001b[0m\n\u001b[0m\u001b[1;32m    540\u001b[0m \u001b[0;34m\u001b[0m\u001b[0m\n\u001b[1;32m    541\u001b[0m     \u001b[0;31m# skip over \"[\"\u001b[0m\u001b[0;34m\u001b[0m\u001b[0;34m\u001b[0m\u001b[0m\n",
      "\u001b[0;32m~/anaconda3/envs/myenv/lib/python3.9/site-packages/numpy/core/arrayprint.py\u001b[0m in \u001b[0;36m_get_format_function\u001b[0;34m(data, **options)\u001b[0m\n\u001b[1;32m    470\u001b[0m             \u001b[0;32mreturn\u001b[0m \u001b[0mformatdict\u001b[0m\u001b[0;34m[\u001b[0m\u001b[0;34m'longfloat'\u001b[0m\u001b[0;34m]\u001b[0m\u001b[0;34m(\u001b[0m\u001b[0;34m)\u001b[0m\u001b[0;34m\u001b[0m\u001b[0;34m\u001b[0m\u001b[0m\n\u001b[1;32m    471\u001b[0m         \u001b[0;32melse\u001b[0m\u001b[0;34m:\u001b[0m\u001b[0;34m\u001b[0m\u001b[0;34m\u001b[0m\u001b[0m\n\u001b[0;32m--> 472\u001b[0;31m             \u001b[0;32mreturn\u001b[0m \u001b[0mformatdict\u001b[0m\u001b[0;34m[\u001b[0m\u001b[0;34m'float'\u001b[0m\u001b[0;34m]\u001b[0m\u001b[0;34m(\u001b[0m\u001b[0;34m)\u001b[0m\u001b[0;34m\u001b[0m\u001b[0;34m\u001b[0m\u001b[0m\n\u001b[0m\u001b[1;32m    473\u001b[0m     \u001b[0;32melif\u001b[0m \u001b[0missubclass\u001b[0m\u001b[0;34m(\u001b[0m\u001b[0mdtypeobj\u001b[0m\u001b[0;34m,\u001b[0m \u001b[0m_nt\u001b[0m\u001b[0;34m.\u001b[0m\u001b[0mcomplexfloating\u001b[0m\u001b[0;34m)\u001b[0m\u001b[0;34m:\u001b[0m\u001b[0;34m\u001b[0m\u001b[0;34m\u001b[0m\u001b[0m\n\u001b[1;32m    474\u001b[0m         \u001b[0;32mif\u001b[0m \u001b[0missubclass\u001b[0m\u001b[0;34m(\u001b[0m\u001b[0mdtypeobj\u001b[0m\u001b[0;34m,\u001b[0m \u001b[0m_nt\u001b[0m\u001b[0;34m.\u001b[0m\u001b[0mclongfloat\u001b[0m\u001b[0;34m)\u001b[0m\u001b[0;34m:\u001b[0m\u001b[0;34m\u001b[0m\u001b[0;34m\u001b[0m\u001b[0m\n",
      "\u001b[0;32m~/anaconda3/envs/myenv/lib/python3.9/site-packages/numpy/core/arrayprint.py\u001b[0m in \u001b[0;36m<lambda>\u001b[0;34m()\u001b[0m\n\u001b[1;32m    409\u001b[0m         \u001b[0;34m'bool'\u001b[0m\u001b[0;34m:\u001b[0m \u001b[0;32mlambda\u001b[0m\u001b[0;34m:\u001b[0m \u001b[0mBoolFormat\u001b[0m\u001b[0;34m(\u001b[0m\u001b[0mdata\u001b[0m\u001b[0;34m)\u001b[0m\u001b[0;34m,\u001b[0m\u001b[0;34m\u001b[0m\u001b[0;34m\u001b[0m\u001b[0m\n\u001b[1;32m    410\u001b[0m         \u001b[0;34m'int'\u001b[0m\u001b[0;34m:\u001b[0m \u001b[0;32mlambda\u001b[0m\u001b[0;34m:\u001b[0m \u001b[0mIntegerFormat\u001b[0m\u001b[0;34m(\u001b[0m\u001b[0mdata\u001b[0m\u001b[0;34m)\u001b[0m\u001b[0;34m,\u001b[0m\u001b[0;34m\u001b[0m\u001b[0;34m\u001b[0m\u001b[0m\n\u001b[0;32m--> 411\u001b[0;31m         'float': lambda: FloatingFormat(\n\u001b[0m\u001b[1;32m    412\u001b[0m             data, precision, floatmode, suppress, sign, legacy=legacy),\n\u001b[1;32m    413\u001b[0m         'longfloat': lambda: FloatingFormat(\n",
      "\u001b[0;32m~/anaconda3/envs/myenv/lib/python3.9/site-packages/numpy/core/arrayprint.py\u001b[0m in \u001b[0;36m__init__\u001b[0;34m(self, data, precision, floatmode, suppress_small, sign, legacy)\u001b[0m\n\u001b[1;32m    930\u001b[0m         \u001b[0mself\u001b[0m\u001b[0;34m.\u001b[0m\u001b[0mlarge_exponent\u001b[0m \u001b[0;34m=\u001b[0m \u001b[0;32mFalse\u001b[0m\u001b[0;34m\u001b[0m\u001b[0;34m\u001b[0m\u001b[0m\n\u001b[1;32m    931\u001b[0m \u001b[0;34m\u001b[0m\u001b[0m\n\u001b[0;32m--> 932\u001b[0;31m         \u001b[0mself\u001b[0m\u001b[0;34m.\u001b[0m\u001b[0mfillFormat\u001b[0m\u001b[0;34m(\u001b[0m\u001b[0mdata\u001b[0m\u001b[0;34m)\u001b[0m\u001b[0;34m\u001b[0m\u001b[0;34m\u001b[0m\u001b[0m\n\u001b[0m\u001b[1;32m    933\u001b[0m \u001b[0;34m\u001b[0m\u001b[0m\n\u001b[1;32m    934\u001b[0m     \u001b[0;32mdef\u001b[0m \u001b[0mfillFormat\u001b[0m\u001b[0;34m(\u001b[0m\u001b[0mself\u001b[0m\u001b[0;34m,\u001b[0m \u001b[0mdata\u001b[0m\u001b[0;34m)\u001b[0m\u001b[0;34m:\u001b[0m\u001b[0;34m\u001b[0m\u001b[0;34m\u001b[0m\u001b[0m\n",
      "\u001b[0;32m~/anaconda3/envs/myenv/lib/python3.9/site-packages/numpy/core/arrayprint.py\u001b[0m in \u001b[0;36mfillFormat\u001b[0;34m(self, data)\u001b[0m\n\u001b[1;32m    941\u001b[0m             \u001b[0mmax_val\u001b[0m \u001b[0;34m=\u001b[0m \u001b[0mnp\u001b[0m\u001b[0;34m.\u001b[0m\u001b[0mmax\u001b[0m\u001b[0;34m(\u001b[0m\u001b[0mabs_non_zero\u001b[0m\u001b[0;34m)\u001b[0m\u001b[0;34m\u001b[0m\u001b[0;34m\u001b[0m\u001b[0m\n\u001b[1;32m    942\u001b[0m             \u001b[0mmin_val\u001b[0m \u001b[0;34m=\u001b[0m \u001b[0mnp\u001b[0m\u001b[0;34m.\u001b[0m\u001b[0mmin\u001b[0m\u001b[0;34m(\u001b[0m\u001b[0mabs_non_zero\u001b[0m\u001b[0;34m)\u001b[0m\u001b[0;34m\u001b[0m\u001b[0;34m\u001b[0m\u001b[0m\n\u001b[0;32m--> 943\u001b[0;31m             \u001b[0;32mwith\u001b[0m \u001b[0merrstate\u001b[0m\u001b[0;34m(\u001b[0m\u001b[0mover\u001b[0m\u001b[0;34m=\u001b[0m\u001b[0;34m'ignore'\u001b[0m\u001b[0;34m)\u001b[0m\u001b[0;34m:\u001b[0m  \u001b[0;31m# division can overflow\u001b[0m\u001b[0;34m\u001b[0m\u001b[0;34m\u001b[0m\u001b[0m\n\u001b[0m\u001b[1;32m    944\u001b[0m                 if max_val >= 1.e8 or (not self.suppress_small and\n\u001b[1;32m    945\u001b[0m                         (min_val < 0.0001 or max_val/min_val > 1000.)):\n",
      "\u001b[0;32m~/anaconda3/envs/myenv/lib/python3.9/site-packages/numpy/core/_ufunc_config.py\u001b[0m in \u001b[0;36m__enter__\u001b[0;34m(self)\u001b[0m\n\u001b[1;32m    431\u001b[0m         \u001b[0;32mif\u001b[0m \u001b[0mself\u001b[0m\u001b[0;34m.\u001b[0m\u001b[0mcall\u001b[0m \u001b[0;32mis\u001b[0m \u001b[0;32mnot\u001b[0m \u001b[0m_Unspecified\u001b[0m\u001b[0;34m:\u001b[0m\u001b[0;34m\u001b[0m\u001b[0;34m\u001b[0m\u001b[0m\n\u001b[1;32m    432\u001b[0m             \u001b[0mself\u001b[0m\u001b[0;34m.\u001b[0m\u001b[0moldcall\u001b[0m \u001b[0;34m=\u001b[0m \u001b[0mseterrcall\u001b[0m\u001b[0;34m(\u001b[0m\u001b[0mself\u001b[0m\u001b[0;34m.\u001b[0m\u001b[0mcall\u001b[0m\u001b[0;34m)\u001b[0m\u001b[0;34m\u001b[0m\u001b[0;34m\u001b[0m\u001b[0m\n\u001b[0;32m--> 433\u001b[0;31m \u001b[0;34m\u001b[0m\u001b[0m\n\u001b[0m\u001b[1;32m    434\u001b[0m     \u001b[0;32mdef\u001b[0m \u001b[0m__exit__\u001b[0m\u001b[0;34m(\u001b[0m\u001b[0mself\u001b[0m\u001b[0;34m,\u001b[0m \u001b[0;34m*\u001b[0m\u001b[0mexc_info\u001b[0m\u001b[0;34m)\u001b[0m\u001b[0;34m:\u001b[0m\u001b[0;34m\u001b[0m\u001b[0;34m\u001b[0m\u001b[0m\n\u001b[1;32m    435\u001b[0m         \u001b[0mseterr\u001b[0m\u001b[0;34m(\u001b[0m\u001b[0;34m**\u001b[0m\u001b[0mself\u001b[0m\u001b[0;34m.\u001b[0m\u001b[0moldstate\u001b[0m\u001b[0;34m)\u001b[0m\u001b[0;34m\u001b[0m\u001b[0;34m\u001b[0m\u001b[0m\n",
      "\u001b[0;32m~/anaconda3/envs/myenv/lib/python3.9/site-packages/numpy/core/_ufunc_config.py\u001b[0m in \u001b[0;36mseterrcall\u001b[0;34m(func)\u001b[0m\n\u001b[1;32m    303\u001b[0m         if (not hasattr(func, 'write') or\n\u001b[1;32m    304\u001b[0m                 not isinstance(func.write, collections.abc.Callable)):\n\u001b[0;32m--> 305\u001b[0;31m             \u001b[0;32mraise\u001b[0m \u001b[0mValueError\u001b[0m\u001b[0;34m(\u001b[0m\u001b[0;34m\"Only callable can be used as callback\"\u001b[0m\u001b[0;34m)\u001b[0m\u001b[0;34m\u001b[0m\u001b[0;34m\u001b[0m\u001b[0m\n\u001b[0m\u001b[1;32m    306\u001b[0m     \u001b[0mpyvals\u001b[0m \u001b[0;34m=\u001b[0m \u001b[0mumath\u001b[0m\u001b[0;34m.\u001b[0m\u001b[0mgeterrobj\u001b[0m\u001b[0;34m(\u001b[0m\u001b[0;34m)\u001b[0m\u001b[0;34m\u001b[0m\u001b[0;34m\u001b[0m\u001b[0m\n\u001b[1;32m    307\u001b[0m     \u001b[0mold\u001b[0m \u001b[0;34m=\u001b[0m \u001b[0mgeterrcall\u001b[0m\u001b[0;34m(\u001b[0m\u001b[0;34m)\u001b[0m\u001b[0;34m\u001b[0m\u001b[0;34m\u001b[0m\u001b[0m\n",
      "\u001b[0;31mValueError\u001b[0m: Only callable can be used as callback"
     ]
    }
   ],
   "source": [
    "samples"
   ]
  },
  {
   "cell_type": "code",
   "execution_count": 12,
   "id": "a51387ec",
   "metadata": {},
   "outputs": [
    {
     "name": "stderr",
     "output_type": "stream",
     "text": [
      "<ipython-input-12-d2ecd5bafdb2>:1: FutureWarning: hdi currently interprets 2d data as (draw, shape) but this will change in a future release to (chain, draw) for coherence with other functions\n",
      "  az.hdi(np.array(samples1))\n"
     ]
    },
    {
     "data": {
      "text/plain": [
       "array([[-4.89675804,  4.67598879],\n",
       "       [-5.36734098,  4.13668907],\n",
       "       [-4.89955392,  4.39271634],\n",
       "       ...,\n",
       "       [-5.56079353,  5.260501  ],\n",
       "       [-6.42922313,  4.83443967],\n",
       "       [-6.41792165,  4.77924618]])"
      ]
     },
     "execution_count": 12,
     "metadata": {},
     "output_type": "execute_result"
    }
   ],
   "source": [
    "az.hdi(np.array(samples1))"
   ]
  },
  {
   "cell_type": "markdown",
   "id": "2c9c3bae",
   "metadata": {},
   "source": [
    "## Learning the latent dimension\n",
    "To learn the latent dimension, we will use the PSIS-LOO. We will try all values of the latent dimension between 1 and 4 and select the value which has lowest PSIS-LOO."
   ]
  },
  {
   "cell_type": "code",
   "execution_count": 10,
   "id": "80dd73cf",
   "metadata": {},
   "outputs": [
    {
     "name": "stdout",
     "output_type": "stream",
     "text": [
      "101591.31818851492\n",
      "3148.015245903669\n",
      "300764.8702469492\n",
      "3147.6691817975416\n"
     ]
    },
    {
     "name": "stderr",
     "output_type": "stream",
     "text": [
      "\r",
      "  0%|          | 0/3000 [00:00<?, ?it/s]"
     ]
    },
    {
     "name": "stdout",
     "output_type": "stream",
     "text": [
      "3147.6689110514226\n",
      "3147.6689110514226\n"
     ]
    },
    {
     "name": "stderr",
     "output_type": "stream",
     "text": [
      "100%|██████████| 3000/3000 [01:48<00:00, 27.75it/s]\n"
     ]
    },
    {
     "name": "stdout",
     "output_type": "stream",
     "text": [
      "(4000, 150)\n",
      "score= -3145.7180146988094\n",
      "accuracy train= 0.30666666666666664\n",
      "  latentdim accuracy_train          loo accuracy_test\n",
      "0       1.0       0.306667 -3145.718015           NaN\n"
     ]
    },
    {
     "name": "stderr",
     "output_type": "stream",
     "text": [
      "/home/benavoli/Dropbox/DropBoxRunning/SkewNormal_all/SkewNormal/ChoiceLearning/github_code/notebooks/model_selection.py:130: FutureWarning: The frame.append method is deprecated and will be removed from pandas in a future version. Use pandas.concat instead.\n",
      "  Scores = Scores.append({'latentdim': latentd, 'accuracy_train': acc_tr,  'loo': loo, 'accuracy_test':acc_te}, ignore_index=True)\n"
     ]
    },
    {
     "name": "stdout",
     "output_type": "stream",
     "text": [
      "101.21042411640651\n",
      "101.16944468624246\n",
      "551639.7326480777\n",
      "101.18777224275266\n"
     ]
    },
    {
     "name": "stderr",
     "output_type": "stream",
     "text": [
      "\r",
      "  0%|          | 0/3000 [00:00<?, ?it/s]"
     ]
    },
    {
     "name": "stdout",
     "output_type": "stream",
     "text": [
      "101.20328349335006\n",
      "101.16944468624246\n"
     ]
    },
    {
     "name": "stderr",
     "output_type": "stream",
     "text": [
      "100%|██████████| 3000/3000 [04:46<00:00, 10.46it/s]\n"
     ]
    },
    {
     "name": "stdout",
     "output_type": "stream",
     "text": [
      "(4000, 150)\n",
      "score= -86.23673925925472\n",
      "accuracy train= 0.9266666666666666\n",
      "  latentdim accuracy_train          loo accuracy_test\n",
      "0       1.0       0.306667 -3145.718015           NaN\n",
      "1       2.0       0.926667   -86.236739           NaN\n"
     ]
    },
    {
     "name": "stderr",
     "output_type": "stream",
     "text": [
      "/home/benavoli/Dropbox/DropBoxRunning/SkewNormal_all/SkewNormal/ChoiceLearning/github_code/notebooks/model_selection.py:130: FutureWarning: The frame.append method is deprecated and will be removed from pandas in a future version. Use pandas.concat instead.\n",
      "  Scores = Scores.append({'latentdim': latentd, 'accuracy_train': acc_tr,  'loo': loo, 'accuracy_test':acc_te}, ignore_index=True)\n"
     ]
    },
    {
     "name": "stdout",
     "output_type": "stream",
     "text": [
      "479363.4385647573\n",
      "114.42296813491552\n",
      "112.9520351709229\n",
      "112.8312211851067\n"
     ]
    },
    {
     "name": "stderr",
     "output_type": "stream",
     "text": [
      "\r",
      "  0%|          | 0/3000 [00:00<?, ?it/s]"
     ]
    },
    {
     "name": "stdout",
     "output_type": "stream",
     "text": [
      "112.81920039539624\n",
      "112.81920039539624\n"
     ]
    },
    {
     "name": "stderr",
     "output_type": "stream",
     "text": [
      "100%|██████████| 3000/3000 [08:48<00:00,  5.68it/s]\n"
     ]
    },
    {
     "name": "stdout",
     "output_type": "stream",
     "text": [
      "(4000, 150)\n",
      "score= -106.19431955100741\n",
      "accuracy train= 0.92\n",
      "  latentdim accuracy_train          loo accuracy_test\n",
      "0       1.0       0.306667 -3145.718015           NaN\n",
      "1       2.0       0.926667   -86.236739           NaN\n",
      "2       3.0           0.92   -106.19432           NaN\n"
     ]
    },
    {
     "name": "stderr",
     "output_type": "stream",
     "text": [
      "/home/benavoli/Dropbox/DropBoxRunning/SkewNormal_all/SkewNormal/ChoiceLearning/github_code/notebooks/model_selection.py:130: FutureWarning: The frame.append method is deprecated and will be removed from pandas in a future version. Use pandas.concat instead.\n",
      "  Scores = Scores.append({'latentdim': latentd, 'accuracy_train': acc_tr,  'loo': loo, 'accuracy_test':acc_te}, ignore_index=True)\n"
     ]
    },
    {
     "name": "stdout",
     "output_type": "stream",
     "text": [
      "1284269.2591012483\n",
      "129.50850285512922\n",
      "103103.14536458952\n",
      "129.59266443441885\n"
     ]
    },
    {
     "name": "stderr",
     "output_type": "stream",
     "text": [
      "\r",
      "  0%|          | 0/3000 [00:00<?, ?it/s]"
     ]
    },
    {
     "name": "stdout",
     "output_type": "stream",
     "text": [
      "917408.5887169528\n",
      "129.50850285512922\n"
     ]
    },
    {
     "name": "stderr",
     "output_type": "stream",
     "text": [
      "100%|██████████| 3000/3000 [13:01<00:00,  3.84it/s]\n"
     ]
    },
    {
     "name": "stdout",
     "output_type": "stream",
     "text": [
      "(4000, 150)\n",
      "score= -127.8036605822002\n",
      "accuracy train= 0.88\n",
      "  latentdim accuracy_train          loo accuracy_test\n",
      "0       1.0       0.306667 -3145.718015           NaN\n",
      "1       2.0       0.926667   -86.236739           NaN\n",
      "2       3.0           0.92   -106.19432           NaN\n",
      "3       4.0           0.88  -127.803661           NaN\n"
     ]
    },
    {
     "name": "stderr",
     "output_type": "stream",
     "text": [
      "/home/benavoli/Dropbox/DropBoxRunning/SkewNormal_all/SkewNormal/ChoiceLearning/github_code/notebooks/model_selection.py:130: FutureWarning: The frame.append method is deprecated and will be removed from pandas in a future version. Use pandas.concat instead.\n",
      "  Scores = Scores.append({'latentdim': latentd, 'accuracy_train': acc_tr,  'loo': loo, 'accuracy_test':acc_te}, ignore_index=True)\n"
     ]
    },
    {
     "data": {
      "text/html": [
       "<div>\n",
       "<style scoped>\n",
       "    .dataframe tbody tr th:only-of-type {\n",
       "        vertical-align: middle;\n",
       "    }\n",
       "\n",
       "    .dataframe tbody tr th {\n",
       "        vertical-align: top;\n",
       "    }\n",
       "\n",
       "    .dataframe thead th {\n",
       "        text-align: right;\n",
       "    }\n",
       "</style>\n",
       "<table border=\"1\" class=\"dataframe\">\n",
       "  <thead>\n",
       "    <tr style=\"text-align: right;\">\n",
       "      <th></th>\n",
       "      <th>latentdim</th>\n",
       "      <th>accuracy_train</th>\n",
       "      <th>loo</th>\n",
       "      <th>accuracy_test</th>\n",
       "    </tr>\n",
       "  </thead>\n",
       "  <tbody>\n",
       "    <tr>\n",
       "      <th>0</th>\n",
       "      <td>1.0</td>\n",
       "      <td>0.306667</td>\n",
       "      <td>-3145.718015</td>\n",
       "      <td>NaN</td>\n",
       "    </tr>\n",
       "    <tr>\n",
       "      <th>1</th>\n",
       "      <td>2.0</td>\n",
       "      <td>0.926667</td>\n",
       "      <td>-86.236739</td>\n",
       "      <td>NaN</td>\n",
       "    </tr>\n",
       "    <tr>\n",
       "      <th>2</th>\n",
       "      <td>3.0</td>\n",
       "      <td>0.92</td>\n",
       "      <td>-106.19432</td>\n",
       "      <td>NaN</td>\n",
       "    </tr>\n",
       "    <tr>\n",
       "      <th>3</th>\n",
       "      <td>4.0</td>\n",
       "      <td>0.88</td>\n",
       "      <td>-127.803661</td>\n",
       "      <td>NaN</td>\n",
       "    </tr>\n",
       "  </tbody>\n",
       "</table>\n",
       "</div>"
      ],
      "text/plain": [
       "  latentdim accuracy_train          loo accuracy_test\n",
       "0       1.0       0.306667 -3145.718015           NaN\n",
       "1       2.0       0.926667   -86.236739           NaN\n",
       "2       3.0           0.92   -106.19432           NaN\n",
       "3       4.0           0.88  -127.803661           NaN"
      ]
     },
     "execution_count": 10,
     "metadata": {},
     "output_type": "execute_result"
    }
   ],
   "source": [
    "import model_selection as ms\n",
    "\n",
    "Scores=ms.model_Selection(X,dimA,  CA_tr=CA, RA_tr=RA, minm=1,maxm=4)\n",
    "Scores"
   ]
  },
  {
   "cell_type": "markdown",
   "id": "a0c10296",
   "metadata": {},
   "source": [
    "The best dimension is $2$, equal to the true dimension."
   ]
  },
  {
   "cell_type": "code",
   "execution_count": null,
   "id": "ad255b50",
   "metadata": {},
   "outputs": [],
   "source": []
  }
 ],
 "metadata": {
  "hide_input": false,
  "kernelspec": {
   "display_name": "Python 3 (ipykernel)",
   "language": "python",
   "name": "python3"
  },
  "language_info": {
   "codemirror_mode": {
    "name": "ipython",
    "version": 3
   },
   "file_extension": ".py",
   "mimetype": "text/x-python",
   "name": "python",
   "nbconvert_exporter": "python",
   "pygments_lexer": "ipython3",
   "version": "3.9.7"
  }
 },
 "nbformat": 4,
 "nbformat_minor": 5
}
