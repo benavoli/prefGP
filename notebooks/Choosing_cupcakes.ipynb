{
 "cells": [
  {
   "cell_type": "code",
   "execution_count": 2,
   "id": "fd25d5c7",
   "metadata": {},
   "outputs": [],
   "source": [
    "%load_ext autoreload\n",
    "%autoreload 2\n",
    "import numpy as np\n",
    "import sys\n",
    "sys.path.append('../')\n",
    "from model.erroneousChoice_full import  erroneousChoice\n",
    "from kernel import jaxrbf\n",
    "from utility import  paramz\n",
    "import matplotlib.pyplot as plt  "
   ]
  },
  {
   "cell_type": "markdown",
   "id": "fbd0224e",
   "metadata": {},
   "source": [
    "# Choosing Cupcakes\n",
    "\n"
   ]
  },
  {
   "cell_type": "code",
   "execution_count": 3,
   "id": "f75834bf",
   "metadata": {},
   "outputs": [
    {
     "data": {
      "image/png": "[encoded data removed]",
      "text/plain": [
       "<Figure size 432x288 with 1 Axes>"
      ]
     },
     "metadata": {
      "needs_background": "light"
     },
     "output_type": "display_data"
    }
   ],
   "source": [
    "np.random.seed(1)\n",
    "bounds=[[-0.25,1.25]]\n",
    "def fun(x,sigma=0):\n",
    "    u1 = np.exp(-(x-0.25)**2*15)+np.random.randn(len(x),1)*sigma #np.exp(-(x-0.25)**2*15)\n",
    "    u2 = np.exp(-(x-0.75)**2*15)+np.random.randn(len(x),1)*sigma #np.exp(-(x-0.75)**2*15)\n",
    "    return np.hstack([u1,u2])\n",
    "Xpred=np.linspace(bounds[0][0],bounds[0][1],200)[:,None]\n",
    "\n",
    "output = fun(Xpred,0.0)\n",
    "plt.plot(Xpred[:,0],output[:,0],color='C1',label=\"u$_1$\")\n",
    "plt.plot(Xpred[:,0],output[:,1],color='C0',label=\"u$_2$\")\n",
    "plt.xlabel(\"x\",fontsize=16)\n",
    "plt.ylabel(\"$u_i(x)$\",fontsize=16);\n",
    "plt.grid()\n",
    "plt.legend(fontsize=16)\n",
    "plt.savefig(\"ChoiceCupcake.pdf\")"
   ]
  },
  {
   "cell_type": "markdown",
   "id": "87f88763",
   "metadata": {},
   "source": [
    "# Learning from choice data\n",
    "\n",
    "We illustrate the overall model with an example. We consider the bi-dimensional utility function ${\\bf u}(x)=[u_1(x),u_2(x)]$ with $x \\in \\mathbb{R}$. \n",
    "We use ${\\bf u}$ to define a choice function via Pareto dominance. For instance, consider the set of options $A_k=\\{x_1,x_2,x_3\\}$, assume that ${\\bf u}(x_1)=[1,0]$, ${\\bf u}(x_2)=[0.54,-0.84]$, $\n",
    "{\\bf u}(x_3)=[0,1]$,\n",
    "we have that $C(A_k)=\\{x_1,x_3\\}$ and $R(A_k)=A_k \\backslash C(A_k)=\\{x_2\\}$. In fact, one can notice that  $[1,0]$ dominates  $[0.54,-0.84]$ on both the utilities, and $[1,0]$  and $[0,1]$ are incomparable.  We sample $30$ inputs $x_i$ at random in $[-0.25,1.25]$ and, using the above approach, we generate a dataset \n",
    "of $m=100$ random subsets $\\{A_k\\}_{k=1}^m$ of the 30 points each one of size $|A_k|=3$  and computed the corresponding choice pairs $(C(A_k),A_k)$ based on  ${\\bf u}$ defined by `fun`.\n",
    "\n",
    "Note that, we use botorch (and torch) only to build the dataset (in particular we use the function `is_non_dominated`)."
   ]
  },
  {
   "cell_type": "code",
   "execution_count": 25,
   "id": "b9c26aa1",
   "metadata": {},
   "outputs": [
    {
     "data": {
      "text/plain": [
       "[array([19, 61]),\n",
       " array([27, 95]),\n",
       " array([ 5, 72]),\n",
       " array([44,  1]),\n",
       " array([32, 73]),\n",
       " array([48, 29]),\n",
       " array([95]),\n",
       " array([82, 67]),\n",
       " array([0]),\n",
       " array([97,  3]),\n",
       " array([23, 54]),\n",
       " array([98, 36]),\n",
       " array([61, 24]),\n",
       " array([ 9, 72]),\n",
       " array([83, 81]),\n",
       " array([14,  7]),\n",
       " array([34, 57]),\n",
       " array([63, 70]),\n",
       " array([81, 88]),\n",
       " array([52, 99]),\n",
       " array([99]),\n",
       " array([73, 54]),\n",
       " array([98, 51]),\n",
       " array([21, 92]),\n",
       " array([82, 80]),\n",
       " array([63,  9]),\n",
       " array([46, 79]),\n",
       " array([12, 29]),\n",
       " array([60, 13]),\n",
       " array([14,  4]),\n",
       " array([15, 53]),\n",
       " array([57]),\n",
       " array([ 1, 72]),\n",
       " array([52, 39]),\n",
       " array([86, 97]),\n",
       " array([82, 50]),\n",
       " array([ 1, 62]),\n",
       " array([73, 30]),\n",
       " array([52, 12]),\n",
       " array([41, 57]),\n",
       " array([90, 88]),\n",
       " array([32, 95]),\n",
       " array([20,  9]),\n",
       " array([51, 12]),\n",
       " array([88]),\n",
       " array([66, 35]),\n",
       " array([71, 96]),\n",
       " array([44, 99]),\n",
       " array([81, 25]),\n",
       " array([12, 60]),\n",
       " array([43, 37]),\n",
       " array([34, 72]),\n",
       " array([40]),\n",
       " array([28,  4]),\n",
       " array([54, 93]),\n",
       " array([89, 11]),\n",
       " array([ 4, 88]),\n",
       " array([63, 12]),\n",
       " array([86]),\n",
       " array([92]),\n",
       " array([ 4, 43]),\n",
       " array([94, 41]),\n",
       " array([27,  4]),\n",
       " array([97,  3]),\n",
       " array([14, 95]),\n",
       " array([80, 44]),\n",
       " array([99, 52]),\n",
       " array([22,  2]),\n",
       " array([ 3, 17]),\n",
       " array([82]),\n",
       " array([48, 17]),\n",
       " array([97, 58]),\n",
       " array([49,  9]),\n",
       " array([90, 92]),\n",
       " array([23, 35]),\n",
       " array([33,  5]),\n",
       " array([80, 97]),\n",
       " array([32, 86]),\n",
       " array([ 7, 43]),\n",
       " array([8]),\n",
       " array([72]),\n",
       " array([40, 23]),\n",
       " array([45, 57]),\n",
       " array([89, 42]),\n",
       " array([11, 83]),\n",
       " array([28, 72]),\n",
       " array([14, 82]),\n",
       " array([64, 56]),\n",
       " array([39, 20]),\n",
       " array([28, 62]),\n",
       " array([34, 46]),\n",
       " array([86, 66]),\n",
       " array([86, 37]),\n",
       " array([31, 53]),\n",
       " array([8, 0]),\n",
       " array([27]),\n",
       " array([54, 60]),\n",
       " array([10, 58]),\n",
       " array([69,  5]),\n",
       " array([ 3, 61]),\n",
       " array([ 9, 40]),\n",
       " array([99, 81]),\n",
       " array([36, 56]),\n",
       " array([83, 54]),\n",
       " array([92]),\n",
       " array([ 9, 33]),\n",
       " array([43, 24]),\n",
       " array([92, 22]),\n",
       " array([99,  7]),\n",
       " array([72,  2]),\n",
       " array([25, 57]),\n",
       " array([22, 98]),\n",
       " array([57]),\n",
       " array([16, 53]),\n",
       " array([86, 66]),\n",
       " array([15,  5]),\n",
       " array([55,  3]),\n",
       " array([39]),\n",
       " array([33, 28]),\n",
       " array([75, 43]),\n",
       " array([35, 23]),\n",
       " array([45, 56]),\n",
       " array([54, 46]),\n",
       " array([26, 37]),\n",
       " array([35]),\n",
       " array([97, 14]),\n",
       " array([10,  0]),\n",
       " array([88, 93]),\n",
       " array([40]),\n",
       " array([ 7, 76]),\n",
       " array([72, 67]),\n",
       " array([10, 40]),\n",
       " array([14, 35]),\n",
       " array([25, 15]),\n",
       " array([90, 68]),\n",
       " array([76]),\n",
       " array([ 3, 31]),\n",
       " array([60, 83]),\n",
       " array([24, 12]),\n",
       " array([77, 49]),\n",
       " array([19, 48]),\n",
       " array([ 6, 80]),\n",
       " array([45, 95]),\n",
       " array([29, 13]),\n",
       " array([80, 79]),\n",
       " array([70, 29]),\n",
       " array([92, 44]),\n",
       " array([89, 81]),\n",
       " array([ 1, 62]),\n",
       " array([46]),\n",
       " array([89, 79]),\n",
       " array([37, 12]),\n",
       " array([28]),\n",
       " array([73, 12]),\n",
       " array([ 1, 63]),\n",
       " array([15, 54]),\n",
       " array([89, 82]),\n",
       " array([90, 75]),\n",
       " array([90, 87]),\n",
       " array([92, 85]),\n",
       " array([28, 64]),\n",
       " array([46,  4]),\n",
       " array([24, 88]),\n",
       " array([44, 55]),\n",
       " array([81, 54]),\n",
       " array([79, 97]),\n",
       " array([36,  5]),\n",
       " array([74, 51]),\n",
       " array([95, 39]),\n",
       " array([33, 32]),\n",
       " array([24]),\n",
       " array([3, 5]),\n",
       " array([63, 76]),\n",
       " array([54, 32]),\n",
       " array([49, 80]),\n",
       " array([10,  4]),\n",
       " array([ 9, 66]),\n",
       " array([ 8, 64]),\n",
       " array([63,  2]),\n",
       " array([40,  1]),\n",
       " array([31, 57]),\n",
       " array([29]),\n",
       " array([82, 53]),\n",
       " array([68, 79]),\n",
       " array([28, 40]),\n",
       " array([54]),\n",
       " array([87, 64]),\n",
       " array([ 0, 39]),\n",
       " array([73, 25]),\n",
       " array([78, 63]),\n",
       " array([99, 66]),\n",
       " array([62, 89]),\n",
       " array([65, 57]),\n",
       " array([36, 29]),\n",
       " array([75, 30]),\n",
       " array([89,  7]),\n",
       " array([88, 60]),\n",
       " array([88, 47]),\n",
       " array([49]),\n",
       " array([99, 90])]"
      ]
     },
     "execution_count": 25,
     "metadata": {},
     "output_type": "execute_result"
    }
   ],
   "source": [
    "import torch\n",
    "from botorch.utils.multi_objective import is_non_dominated\n",
    "\n",
    "def is_pareto(X):\n",
    "    return is_non_dominated(torch.from_numpy(X),deduplicate=False)\n",
    "\n",
    "#generate CA RA sets\n",
    "def make_CA_RA(x, y, rows=[],typeR='rational'):\n",
    "    if len(rows)==0:\n",
    "        rows=np.arange(x.shape[0])\n",
    "    if typeR=='rational':\n",
    "        acc = rows[is_pareto(y)]\n",
    "        rej = rows[~ is_pareto(y)]\n",
    "    elif typeR=='pseudo':\n",
    "        indy = np.unique(np.argmax(y,axis=0))\n",
    "        acc = rows[indy]\n",
    "        rej = rows[np.setdiff1d(np.arange(x.shape[0]),indy)]\n",
    "    return acc, rej\n",
    "\n",
    "def make_observations(X, fun, nA, dimA,typeR='rational'):\n",
    "    CA=[]\n",
    "    RA=[]   \n",
    "    ix = 0\n",
    "    for i in range(nA):\n",
    "        rows = np.random.permutation(np.arange(X.shape[0]))[0:dimA]\n",
    "        x=X[rows,:]\n",
    "        y=fun(x)\n",
    "        acc,rej=make_CA_RA(x, y, rows,typeR=typeR)\n",
    "        if len(acc)>0:\n",
    "            CA.append(acc)\n",
    "        else:\n",
    "            CA.append([])\n",
    "        if len(acc)<dimA:\n",
    "            RA.append(rej)\n",
    "        else:\n",
    "            RA.append([])\n",
    "        ix = ix+1\n",
    "    return CA, RA\n",
    "\n",
    "\n",
    "#generate data\n",
    "np.random.seed(123)\n",
    "\n",
    "# we randomly generate objects\n",
    "n = 100 # number of objects\n",
    "X = (np.vstack(bounds)[:,0]+np.random.rand(n,1)*(np.vstack(bounds)[:,1]-np.vstack(bounds)[:,0]))\n",
    "\n",
    "# we randomly generate choice data\n",
    "nA = 200 # number of choice sets\n",
    "dimA = 3 # dimension of each choice set\n",
    "CA, RA = make_observations(X, fun, nA, dimA,typeR='pseudo')\n",
    "CA"
   ]
  },
  {
   "cell_type": "markdown",
   "id": "757e6405",
   "metadata": {},
   "source": [
    "## Fixed latent dimension\n",
    "\n",
    "The following code allows us to learn a choice function from choice-data. We have to select the latent dimension `latent_dim`, which represents the number of utility functions. Similarly to GP processes for multiclass classification, we model each  latent utility function in the vector ${\\bf u}({\\bf x})=[u_1({\\bf x}),\\dots,u_{d}({\\bf x})]^\\top$ as an independent GP:\n",
    "\n",
    "$$\n",
    " u_i({\\bf x}) \\sim \\text{GP}_i(0,k_i({\\bf x},{\\bf x}')), ~~~~i=1,2,\\dots,d.\n",
    "$$\n",
    "\n",
    " Each GP is fully specified by its kernel function $k_i(\\cdot,\\cdot)$, which defines the covariance of the latent function between any two points. The model parameters are the kernel parameters (lengthscales) in $k_i(\\cdot,\\cdot)$, and the variance. These parameters must be initiliased and then they are optimised using variational inference."
   ]
  },
  {
   "cell_type": "code",
   "execution_count": 29,
   "id": "ddbc7562",
   "metadata": {
    "scrolled": true
   },
   "outputs": [
    {
     "name": "stderr",
     "output_type": "stream",
     "text": [
      " lower bound 455.91849464786947: 100%|██████████| 3000/3000 [04:52<00:00, 10.24it/s]"
     ]
    },
    {
     "name": "stdout",
     "output_type": "stream",
     "text": [
      "{'lengthscale_0': {'value': array([0.30692761]), 'range': array([[0.1, 3. ]]), 'transform': <utility.paramz.logexp object at 0x7f066c2fbc40>}, 'variance_0': {'value': array([29.86967228]), 'range': array([[  1., 100.]]), 'transform': <utility.paramz.logexp object at 0x7f056c07a880>}, 'lengthscale_1': {'value': array([0.21518932]), 'range': array([[0.1, 3. ]]), 'transform': <utility.paramz.logexp object at 0x7f056c07ab50>}, 'variance_1': {'value': array([28.96496998]), 'range': array([[  1., 100.]]), 'transform': <utility.paramz.logexp object at 0x7f056c07a5e0>}}\n"
     ]
    },
    {
     "name": "stderr",
     "output_type": "stream",
     "text": [
      "\n"
     ]
    }
   ],
   "source": [
    "#choice data\n",
    "data={'X': X,#objects\n",
    "      'CA': CA,#choiced objects\n",
    "      'RA': RA,#rejected objects\n",
    "      'dimA':dimA# dimension of the choice set\n",
    "          }\n",
    "\n",
    "# number of latent utilities\n",
    "latent_dim=2\n",
    "\n",
    "# define kernel \n",
    "Kernel = jaxrbf.RBF\n",
    "#hyperparameters of the kernel\n",
    "params = {'lengthscale_0': {'value':1.0*np.ones(data[\"X\"].shape[1],float), \n",
    "                            'range':np.vstack([[0.1, 3.0]]*data[\"X\"].shape[1]),\n",
    "                            'transform': paramz.logexp()},\n",
    "           'variance_0': {'value':np.array([10.0]), \n",
    "                            'range':np.vstack([[1.0, 100.0]]),\n",
    "                            'transform': paramz.logexp()},\n",
    "          'lengthscale_1': {'value':1.0*np.ones(data[\"X\"].shape[1],float), \n",
    "                            'range':np.vstack([[0.1, 3.0]]*data[\"X\"].shape[1]),\n",
    "                            'transform': paramz.logexp()},\n",
    "           'variance_1': {'value':np.array([10.0]), \n",
    "                            'range':np.vstack([[1.0, 100.0]]),\n",
    "                            'transform': paramz.logexp()}\n",
    "              }\n",
    "\n",
    "\n",
    "\n",
    "# define choice model \n",
    "model = erroneousChoice(data,Kernel,params,latent_dim,typeR=\"pseudo\",jitter=1e-6)\n",
    "# compute variational inference and estimate hyperparameters\n",
    "model.optimize_hyperparams(niterations=3000,kernel_hypers_fixed=False, \n",
    "                           #init_f=np.zeros(2*X.shape[0]),\n",
    "                           diagonal=False)\n",
    "print(model.params)"
   ]
  },
  {
   "cell_type": "code",
   "execution_count": 30,
   "id": "4e55591f",
   "metadata": {},
   "outputs": [
    {
     "data": {
      "image/png": "[encoded data removed]",
      "text/plain": [
       "<Figure size 432x288 with 1 Axes>"
      ]
     },
     "metadata": {
      "needs_background": "light"
     },
     "output_type": "display_data"
    }
   ],
   "source": [
    "predictions = model.predict_VI(Xpred)\n",
    "\n",
    "mean=predictions[0]\n",
    "Sigma=predictions[1]\n",
    "mean1=mean[0:Xpred.shape[0]]\n",
    "mean2=mean[Xpred.shape[0]:]\n",
    "d=np.sqrt(np.diag(Sigma[0:Xpred.shape[0],0:Xpred.shape[0]]))[:,None]\n",
    "cred_int1=mean1+2*np.hstack([-d,d])\n",
    "d=np.sqrt(np.diag(Sigma[Xpred.shape[0]:,Xpred.shape[0]:]))[:,None]\n",
    "cred_int2=mean2+2*np.hstack([-d,d])\n",
    "plt.plot(Xpred[:,0],mean1,color='C0',label=\"$E[u_1]$\")\n",
    "plt.plot(Xpred[:,0],mean2,color='C1',label=\"$E[u_2]$\")\n",
    "plt.fill_between(Xpred[:,0],cred_int1[:,0],cred_int1[:,1],\n",
    "                 color='C0', linestyle=':',alpha=0.15)\n",
    "\n",
    "plt.fill_between(Xpred[:,0],cred_int2[:,0],cred_int2[:,1],color='C1', linestyle=':',alpha=0.15)\n",
    "\n",
    "plt.xlabel(\"x\", fontsize=16)\n",
    "plt.ylabel(\"u\", fontsize=16, rotation=0)\n",
    "plt.legend(fontsize=16,loc='lower left')\n",
    "plt.savefig(\"EstimatedCupcakes_pseudo_pseudo.pdf\")"
   ]
  },
  {
   "cell_type": "code",
   "execution_count": 28,
   "id": "08b721e8",
   "metadata": {},
   "outputs": [
    {
     "data": {
      "text/plain": [
       "<matplotlib.legend.Legend at 0x7f05940c07f0>"
      ]
     },
     "execution_count": 28,
     "metadata": {},
     "output_type": "execute_result"
    },
    {
     "data": {
      "image/png": "[encoded data removed]",
      "text/plain": [
       "<Figure size 432x288 with 1 Axes>"
      ]
     },
     "metadata": {
      "needs_background": "light"
     },
     "output_type": "display_data"
    }
   ],
   "source": [
    "from scipy.stats import multivariate_normal\n",
    "mean = predictions[0]\n",
    "Sigma = predictions[1]\n",
    "#first utility\n",
    "samples = multivariate_normal(mean[:,0],Sigma+1e-4*np.eye(Sigma.shape[0])).rvs(100)\n",
    "i =6\n",
    "u1 = samples[i][0:Xpred.shape[0]]\n",
    "u2 = samples[i][Xpred.shape[0]:]\n",
    "plt.plot(Xpred[:,0],u1,color='C0',label=\"$E[u_1]$\")\n",
    "plt.plot(Xpred[:,0],u2,color='C1',label=\"$E[u_2]$\")\n",
    "plt.legend()\n",
    "#plt.savefig(\"Estimatedcupcakesamples.pdf\")"
   ]
  },
  {
   "cell_type": "markdown",
   "id": "2c9c3bae",
   "metadata": {},
   "source": [
    "## Learning the latent dimension\n",
    "To learn the latent dimension, we will use the PSIS-LOO. We will try all values of the latent dimension between 1 and 4 and select the value which has lowest PSIS-LOO."
   ]
  },
  {
   "cell_type": "code",
   "execution_count": null,
   "id": "80dd73cf",
   "metadata": {},
   "outputs": [],
   "source": [
    "import model_selection as ms\n",
    "\n",
    "Scores=ms.model_Selection(X,dimA,  CA_tr=CA, RA_tr=RA, minm=1,maxm=4)\n",
    "Scores"
   ]
  },
  {
   "cell_type": "markdown",
   "id": "a0c10296",
   "metadata": {},
   "source": [
    "The best dimension is $2$, equal to the true dimension."
   ]
  }
 ],
 "metadata": {
  "hide_input": false,
  "kernelspec": {
   "display_name": "Python 3",
   "language": "python",
   "name": "python3"
  },
  "language_info": {
   "codemirror_mode": {
    "name": "ipython",
    "version": 3
   },
   "file_extension": ".py",
   "mimetype": "text/x-python",
   "name": "python",
   "nbconvert_exporter": "python",
   "pygments_lexer": "ipython3",
   "version": "3.9.7"
  }
 },
 "nbformat": 4,
 "nbformat_minor": 5
}
