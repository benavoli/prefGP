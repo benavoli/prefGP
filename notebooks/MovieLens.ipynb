{
 "cells": [
  {
   "cell_type": "markdown",
   "id": "ee7a77fe",
   "metadata": {},
   "source": [
    "# MovieLens recommender system\n",
    "\n",
    "We consider here the dataset MovieLens  (Harper and Konstan, 2015) that contains 100,000 ratings given by 943 users\n",
    "to 1682 movies. Each user has rated at least 20 movies and demographic information is available for each user.\n",
    "\n",
    "The dataset can be downloaded by running the following code"
   ]
  },
  {
   "cell_type": "code",
   "execution_count": 1,
   "id": "83955178",
   "metadata": {},
   "outputs": [],
   "source": [
    "import os\n",
    "from subprocess import call\n",
    "# change the following boolean to download the data\n",
    "NOT_RUN = True\n",
    "\n",
    "if NOT_RUN:\n",
    "    file_dir = 'ml-100k'\n",
    "    file_path = os.path.join(file_dir, 'u.data')\n",
    "    if not os.path.isdir(file_dir):\n",
    "        call(['curl', '-O', 'http://files.grouplens.org/datasets/movielens/' + file_dir + '.zip'])\n",
    "        call(['unzip', file_dir + '.zip'])"
   ]
  },
  {
   "cell_type": "markdown",
   "id": "90973bf5-b0d9-4c9d-a2b2-fcf19d9b9fec",
   "metadata": {},
   "source": [
    "### Load dataset\n",
    "\n",
    "We now load the dataset in the preference format. We use the utility function `generateMovieChoiceData` which generates the vector of input features `largeX` and the vector of all preferences `Allchoices1v`."
   ]
  },
  {
   "cell_type": "code",
   "execution_count": 2,
   "id": "3de34c80",
   "metadata": {},
   "outputs": [],
   "source": [
    "import sys\n",
    "sys.path.append('../')\n",
    "from utility.generate_movieData import generateMovieChoiceData"
   ]
  },
  {
   "cell_type": "code",
   "execution_count": 3,
   "id": "a07965f3",
   "metadata": {},
   "outputs": [
    {
     "name": "stdout",
     "output_type": "stream",
     "text": [
      "Reading data from folder ./ml-100k ...\n",
      "data dimension: \n",
      " (100000, 4)\n"
     ]
    },
    {
     "name": "stderr",
     "output_type": "stream",
     "text": [
      "/Users/dario.azzimonti/Library/CloudStorage/Dropbox/GPpref/notebooks/../utility/generate_movieData.py:57: SettingWithCopyWarning: \n",
      "A value is trying to be set on a copy of a slice from a DataFrame.\n",
      "Try using .loc[row_indexer,col_indexer] = value instead\n",
      "\n",
      "See the caveats in the documentation: https://pandas.pydata.org/pandas-docs/stable/user_guide/indexing.html#returning-a-view-versus-a-copy\n",
      "  data[ratings_col] = 1\n"
     ]
    },
    {
     "name": "stdout",
     "output_type": "stream",
     "text": [
      "number of movies selected:  650\n",
      "Size of users/movies matrix  (50, 650)\n",
      "Size of user features  (50, 24)\n",
      "Size of tiled input feature vector: (32500, 25)\n",
      "Total number of choices:  2678506\n"
     ]
    }
   ],
   "source": [
    "largeX, Allchoices1v = generateMovieChoiceData(nmovies=650,nusers=100,dir_to_save=None)"
   ]
  },
  {
   "cell_type": "markdown",
   "id": "25478eb6-5003-48a9-aaf1-598559f2d884",
   "metadata": {},
   "source": [
    "### Set up the model\n",
    "\n",
    "We now set up the training test split and the model. Note that this model is implemented in gpytorch. This allows us to use stochastic gradient descent with mini-batches to optimize a variational sparse model. We need stochastic variational inference in this example because the number of pairwise preferences is too large. "
   ]
  },
  {
   "cell_type": "code",
   "execution_count": 4,
   "id": "8c35b11b-b76f-45cd-a508-94bafe0df03a",
   "metadata": {},
   "outputs": [],
   "source": [
    "import torch\n",
    "from model.choiceGPytorch import ChoiceGPtorch\n",
    "from sklearn.model_selection import train_test_split\n",
    "import numpy as np\n",
    "\n",
    "torch.set_default_dtype(torch.float32)\n",
    "dtype=torch.float32\n",
    "device = torch.device(\"cpu\")"
   ]
  },
  {
   "cell_type": "code",
   "execution_count": 5,
   "id": "e7b5f727-7e36-4e16-b257-8fd017b41238",
   "metadata": {},
   "outputs": [],
   "source": [
    "# split in training and testing\n",
    "Allchoices1v_tr,Allchoices1_te= train_test_split(Allchoices1v,test_size=0.2)\n",
    "CA=Allchoices1v_tr[:,[0]]\n",
    "RA=Allchoices1v_tr[:,[1]]\n",
    "\n",
    "#since we consider preferences\n",
    "dimA=2 #dimension of choice set\n",
    "num_latents = 1 # number of latent utilities\n",
    "\n",
    "\n",
    "#this is just for the function \n",
    "CAt=np.hstack([CA,-1*np.ones((CA.shape[0],1))])\n",
    "RAt=np.hstack([RA,-1*np.ones((RA.shape[0],1))])\n",
    "\n",
    "\n",
    "target = torch.stack((torch.tensor(CAt,device=device), torch.tensor(RAt,device=device))).type(torch.int32)\n",
    "Xtrain = torch.from_numpy(largeX).type(dtype).to(device)#.squeeze()"
   ]
  },
  {
   "cell_type": "code",
   "execution_count": 6,
   "id": "384ed5bd",
   "metadata": {},
   "outputs": [
    {
     "name": "stdout",
     "output_type": "stream",
     "text": [
      "torch.Size([2, 2142804, 2]) torch.Size([32500, 25]) torch.Size([1, 800, 25])\n"
     ]
    }
   ],
   "source": [
    "# Let's use a different set of inducing points for each task\n",
    "n_ind=800 # number of inducing points\n",
    "indx = np.random.choice(Xtrain.shape[0], n_ind, replace=False)\n",
    "# we select the initial position of the inducing points as a subset of the input features\n",
    "inducing_points = largeX[indx,:]\n",
    "inducing_points = inducing_points.astype(np.float32)\n",
    "inducing_points = torch.from_numpy(inducing_points).to(device)\n",
    "inducing_points = inducing_points.reshape(1,n_ind,Xtrain.shape[1])\n",
    "\n",
    "print(target.shape, Xtrain.shape ,inducing_points.shape)"
   ]
  },
  {
   "cell_type": "code",
   "execution_count": 7,
   "id": "8aad7653",
   "metadata": {},
   "outputs": [],
   "source": [
    "model = ChoiceGPtorch(dimA=dimA,num_gp=num_latents,num_choices=target.shape[1],\n",
    "                      inducing_points=inducing_points,\n",
    "                      learn_inducing_locations=True,\n",
    "                      use_batches=True)"
   ]
  },
  {
   "cell_type": "code",
   "execution_count": 8,
   "id": "2c2aebeb",
   "metadata": {},
   "outputs": [],
   "source": [
    "from utility.choice_dataset import ChoiceDataset\n",
    "\n",
    "batch_size = 5096\n",
    "dataset = ChoiceDataset(Xtrain, target[0], target[1])\n",
    "dataloader = torch.utils.data.DataLoader(dataset, batch_size=batch_size, collate_fn=dataset.collate_fn, shuffle=True)\n"
   ]
  },
  {
   "cell_type": "code",
   "execution_count": 9,
   "id": "24dc9b6e",
   "metadata": {},
   "outputs": [],
   "source": [
    "# This cell requires about 50 min per iteration to compute.\n",
    "# model.optimize_batches(dataloader, num_iterations=16, lr=0.035)\n",
    "# model_name='./saved_models/nChoices_2_6M_input_32k_indPts_800_it_16'\n",
    "# model.save(model_name)"
   ]
  },
  {
   "cell_type": "code",
   "execution_count": 10,
   "id": "93897f1c",
   "metadata": {},
   "outputs": [],
   "source": [
    "# This cell loads the trained model.\n",
    "model_name='./saved_models/nChoices_2_6M_input_32k_indPts_800_it_16'\n",
    "model.load(model_name)"
   ]
  },
  {
   "cell_type": "code",
   "execution_count": 11,
   "id": "4f616d37",
   "metadata": {},
   "outputs": [
    {
     "name": "stdout",
     "output_type": "stream",
     "text": [
      "Accuracy:\n",
      "0.9067709286132962\n"
     ]
    }
   ],
   "source": [
    "meanf,varf,lower,upper= model.predict(Xtrain,covariance=False)\n",
    "\n",
    "pred=meanf[:,None][Allchoices1_te][:,:,0]\n",
    "pred_var = varf[:,None][Allchoices1_te][:,0,0]\n",
    "\n",
    "print(\"Accuracy:\")\n",
    "print(np.mean(pred[:,0]>pred[:,1])) "
   ]
  },
  {
   "cell_type": "code",
   "execution_count": 12,
   "id": "71b736cc",
   "metadata": {},
   "outputs": [],
   "source": [
    "import scipy\n",
    "Ww=pred[:,0,0]-pred[:,1,0]\n",
    "prob_test = scipy.stats.norm.cdf(Ww/np.sqrt(pred_var[:,0]))"
   ]
  },
  {
   "cell_type": "code",
   "execution_count": 13,
   "id": "226cfe04",
   "metadata": {},
   "outputs": [
    {
     "data": {
      "text/plain": [
       "<sklearn.metrics._plot.roc_curve.RocCurveDisplay at 0x2bc5736d0>"
      ]
     },
     "execution_count": 13,
     "metadata": {},
     "output_type": "execute_result"
    },
    {
     "data": {
      "image/png": "[encoded data removed]",
      "text/plain": [
       "<Figure size 640x480 with 1 Axes>"
      ]
     },
     "metadata": {},
     "output_type": "display_data"
    }
   ],
   "source": [
    "from sklearn.metrics import precision_recall_curve,PrecisionRecallDisplay,RocCurveDisplay\n",
    "RocCurveDisplay.from_predictions(np.hstack((np.ones_like(prob_test),np.zeros_like(prob_test))), \n",
    "                                        np.hstack((prob_test,1-prob_test)))"
   ]
  },
  {
   "cell_type": "code",
   "execution_count": null,
   "id": "3496df71",
   "metadata": {},
   "outputs": [],
   "source": []
  }
 ],
 "metadata": {
  "kernelspec": {
   "display_name": "Python 3 (ipykernel)",
   "language": "python",
   "name": "python3"
  },
  "language_info": {
   "codemirror_mode": {
    "name": "ipython",
    "version": 3
   },
   "file_extension": ".py",
   "mimetype": "text/x-python",
   "name": "python",
   "nbconvert_exporter": "python",
   "pygments_lexer": "ipython3",
   "version": "3.11.4"
  }
 },
 "nbformat": 4,
 "nbformat_minor": 5
}
