{
 "cells": [
  {
   "cell_type": "code",
   "execution_count": 1,
   "id": "fd25d5c7",
   "metadata": {},
   "outputs": [],
   "source": [
    "%load_ext autoreload\n",
    "%autoreload 2\n",
    "import numpy as np\n",
    "import sys\n",
    "sys.path.append('../')\n",
    "from model.erroneousChoice_full import  erroneousChoice\n",
    "from kernel import jaxrbf\n",
    "from utility import  paramz\n",
    "import matplotlib.pyplot as plt\n",
    "import matplotlib \n",
    "matplotlib.rc('xtick', labelsize=12) \n",
    "matplotlib.rc('ytick', labelsize=12)     "
   ]
  },
  {
   "cell_type": "markdown",
   "id": "87f88763",
   "metadata": {},
   "source": [
    "# Learning from choice data\n",
    "\n",
    "We illustrate the overall model with an example. We consider the bi-dimensional utility function ${\\bf u}(x)=[\\cos(2x),-sin(2 x)]$ with $x \\in \\mathbb{R}$. \n",
    "\n",
    "We use ${\\bf u}$ to define a choice function. For instance, consider the set of options $A_k=\\{0,0.5,2.36\\}$, given that ${\\bf u}( 0)=[1,0]$, ${\\bf u}(0.5)=[0.54,-0.84]$, $\n",
    "{\\bf u}( 2.36)=[0,1]$,\n",
    "we have that $C(A_k)=\\{0,2.36\\}$ and $R(A_k)=A_k \\backslash C(A_k)=\\{0.5\\}$. In fact, one can notice that  $[1,0]$ dominates  $[0.54,-0.84]$ on both the utilities, and $[1,0]$  and $[0,1]$ are incomparable.  We sample $200$ inputs $x_i$ at random in $[-4.5,4.5]$ and, using the above approach, we generate a dataset \n",
    "of $m=150$ random subsets $\\{A_k\\}_{k=1}^m$ of the 200 points each one of size $|A_k|=3$  and computed the corresponding choice pairs $(C(A_k),A_k)$ based on  ${\\bf u}$.\n",
    "\n",
    "Note that, we use botorch (and torch) only to build the dataset (in particular we use the function `is_non_dominated`). For ChoiceGP, we instead use `jax` for automatic differentiation."
   ]
  },
  {
   "cell_type": "code",
   "execution_count": 3,
   "id": "b9c26aa1",
   "metadata": {},
   "outputs": [],
   "source": [
    "import torch\n",
    "from botorch.utils.multi_objective import is_non_dominated\n",
    "def is_pareto(X):\n",
    "    return is_non_dominated(torch.from_numpy(X),deduplicate=False)\n",
    "\n",
    "#generate CA RA sets\n",
    "def make_CA_RA(x, y, rows=[]):\n",
    "    if len(rows)==0:\n",
    "        rows=np.arange(x.shape[0])\n",
    "    acc = rows[is_pareto(y)]\n",
    "    rej = rows[~ is_pareto(y)]\n",
    "    return acc, rej\n",
    "\n",
    "def make_observations(X, fun, nA, dimA):\n",
    "    CA=[]\n",
    "    RA=[]   \n",
    "    ix = 0\n",
    "    for i in range(nA):\n",
    "        rows = np.random.permutation(np.arange(X.shape[0]))[0:dimA]\n",
    "        x=X[rows,:]\n",
    "        y=fun(x)\n",
    "        acc,rej=make_CA_RA(x, y, rows)\n",
    "        if len(acc)>0:\n",
    "            CA.append(acc)\n",
    "        else:\n",
    "            CA.append([])\n",
    "        if len(acc)<dimA:\n",
    "            RA.append(rej)\n",
    "        else:\n",
    "            RA.append([])\n",
    "        ix = ix+1\n",
    "    return CA, RA\n",
    "\n",
    "\n",
    "#generate data\n",
    "np.random.seed(1)\n",
    "\n",
    "bounds=[[-4.5,4.5]]\n",
    "def fun(x):\n",
    "    return np.hstack([np.cos(2*x),-np.sin(2*x)]) \n",
    "\n",
    "# we randomly generate objects\n",
    "n = 200 # number of objects\n",
    "X = np.sort(np.vstack(bounds)[:,0]+np.random.rand(n,1)*(np.vstack(bounds)[:,1]-np.vstack(bounds)[:,0]),axis=0)\n",
    "\n",
    "# we randomly generate choice data\n",
    "nA = 150\n",
    "dimA = 3\n",
    "CA, RA = make_observations(X, fun, nA, dimA)\n",
    "\n",
    "# We use this for prediction (plotting)\n",
    "Xpred=np.linspace(bounds[0][0],bounds[0][1],200)[:,None]"
   ]
  },
  {
   "cell_type": "markdown",
   "id": "757e6405",
   "metadata": {},
   "source": [
    "## Fixed latent dimension\n",
    "\n",
    "The following code allows us to learn a choice function from choice-data. We have to select the latent dimension `latent_dim`, which represents the number of utility functions. Similarly to GP processes for multiclass classification, we model each  latent utility function in the vector ${\\bf u}({\\bf x})=[u_1({\\bf x}),\\dots,u_{d}({\\bf x})]^\\top$ as an independent GP:\n",
    "$$\n",
    " u_i({\\bf x}) \\sim \\text{GP}_i(0,k_i({\\bf x},{\\bf x}')), ~~~~i=1,2,\\dots,d.\n",
    "$$\n",
    " Each GP is fully specified by its kernel function $k_i(\\cdot,\\cdot)$, which defines the covariance of the latent function between any two points. The model parameters are the kernel parameters (lengthscales) in $k_i(\\cdot,\\cdot)$, and the variance. These parameters must be initiliased and then they are optimised using variational inference."
   ]
  },
  {
   "cell_type": "code",
   "execution_count": 4,
   "id": "ddbc7562",
   "metadata": {},
   "outputs": [
    {
     "name": "stderr",
     "output_type": "stream",
     "text": [
      "WARNING:absl:No GPU/TPU found, falling back to CPU. (Set TF_CPP_MIN_LOG_LEVEL=0 and rerun for more info.)\n"
     ]
    },
    {
     "name": "stdout",
     "output_type": "stream",
     "text": [
      "313622.6289356658\n",
      "668130.0369432924\n",
      "148.43667328125846\n",
      "148.2948528366333\n",
      "148.29485708261373\n",
      "148.36509167109546\n",
      "148.29485283669126\n",
      "455989.10083315044\n",
      "148.29485283651275\n"
     ]
    },
    {
     "name": "stderr",
     "output_type": "stream",
     "text": [
      "\r",
      "  0%|          | 0/500 [00:00<?, ?it/s]"
     ]
    },
    {
     "name": "stdout",
     "output_type": "stream",
     "text": [
      "148.29490238431376\n",
      "148.29485283651275\n"
     ]
    },
    {
     "name": "stderr",
     "output_type": "stream",
     "text": [
      " lower bound 207.84868773221802:  36%|███▌      | 178/500 [01:15<01:56,  2.77it/s]"
     ]
    },
    {
     "ename": "KeyboardInterrupt",
     "evalue": "",
     "output_type": "error",
     "traceback": [
      "\u001b[0;31m---------------------------------------------------------------------------\u001b[0m",
      "\u001b[0;31mKeyboardInterrupt\u001b[0m                         Traceback (most recent call last)",
      "\u001b[0;32m<ipython-input-4-b65fcdcbb094>\u001b[0m in \u001b[0;36m<module>\u001b[0;34m\u001b[0m\n\u001b[1;32m     29\u001b[0m \u001b[0mmodel\u001b[0m \u001b[0;34m=\u001b[0m \u001b[0merroneousChoice\u001b[0m\u001b[0;34m(\u001b[0m\u001b[0mdata\u001b[0m\u001b[0;34m,\u001b[0m\u001b[0mKernel\u001b[0m\u001b[0;34m,\u001b[0m\u001b[0mparams\u001b[0m\u001b[0;34m,\u001b[0m\u001b[0mlatent_dim\u001b[0m\u001b[0;34m)\u001b[0m\u001b[0;34m\u001b[0m\u001b[0;34m\u001b[0m\u001b[0m\n\u001b[1;32m     30\u001b[0m \u001b[0;31m# compute variational inference and estimate hyperparameters\u001b[0m\u001b[0;34m\u001b[0m\u001b[0;34m\u001b[0m\u001b[0m\n\u001b[0;32m---> 31\u001b[0;31m \u001b[0mmodel\u001b[0m\u001b[0;34m.\u001b[0m\u001b[0moptimize_hyperparams\u001b[0m\u001b[0;34m(\u001b[0m\u001b[0mniterations\u001b[0m\u001b[0;34m=\u001b[0m\u001b[0;36m500\u001b[0m\u001b[0;34m,\u001b[0m\u001b[0mkernel_hypers_fixed\u001b[0m\u001b[0;34m=\u001b[0m\u001b[0;32mFalse\u001b[0m\u001b[0;34m)\u001b[0m\u001b[0;34m\u001b[0m\u001b[0;34m\u001b[0m\u001b[0m\n\u001b[0m\u001b[1;32m     32\u001b[0m \u001b[0mprint\u001b[0m\u001b[0;34m(\u001b[0m\u001b[0mmodel\u001b[0m\u001b[0;34m.\u001b[0m\u001b[0mparams\u001b[0m\u001b[0;34m)\u001b[0m\u001b[0;34m\u001b[0m\u001b[0;34m\u001b[0m\u001b[0m\n\u001b[1;32m     33\u001b[0m \u001b[0;31m# predicted samples\u001b[0m\u001b[0;34m\u001b[0m\u001b[0;34m\u001b[0m\u001b[0m\n",
      "\u001b[0;32m~/Dropbox/DropBoxRunning/SkewNormal_all/Python_preferences_GP/GPpref/notebooks/../model/abstractModel.py\u001b[0m in \u001b[0;36moptimize_hyperparams\u001b[0;34m(self, num_restarts, niterations, kernel_hypers_fixed, init_f)\u001b[0m\n\u001b[1;32m     45\u001b[0m                                           \u001b[0mself\u001b[0m\u001b[0;34m.\u001b[0m\u001b[0mparams\u001b[0m\u001b[0;34m,\u001b[0m\u001b[0;34m\u001b[0m\u001b[0;34m\u001b[0m\u001b[0m\n\u001b[1;32m     46\u001b[0m                                           self._log_likelihood)\n\u001b[0;32m---> 47\u001b[0;31m             infer.optimize(niterations,\n\u001b[0m\u001b[1;32m     48\u001b[0m                            \u001b[0mkernel_hypers_fixed\u001b[0m\u001b[0;34m=\u001b[0m\u001b[0mkernel_hypers_fixed\u001b[0m\u001b[0;34m,\u001b[0m\u001b[0;34m\u001b[0m\u001b[0;34m\u001b[0m\u001b[0m\n\u001b[1;32m     49\u001b[0m                            init_f=init_f)\n",
      "\u001b[0;32m~/Dropbox/DropBoxRunning/SkewNormal_all/Python_preferences_GP/GPpref/notebooks/../inference/advi_full.py\u001b[0m in \u001b[0;36moptimize\u001b[0;34m(self, niterations, progress, kernel_hypers_fixed, init_f)\u001b[0m\n\u001b[1;32m    222\u001b[0m \u001b[0;34m\u001b[0m\u001b[0m\n\u001b[1;32m    223\u001b[0m         \u001b[0mloglike\u001b[0m \u001b[0;34m=\u001b[0m\u001b[0mself\u001b[0m\u001b[0;34m.\u001b[0m\u001b[0m_log_like\u001b[0m\u001b[0;34m(\u001b[0m\u001b[0;34m)\u001b[0m\u001b[0;34m\u001b[0m\u001b[0;34m\u001b[0m\u001b[0m\n\u001b[0;32m--> 224\u001b[0;31m         f, Sigma, log_kernel_hypers, advi_params = self.advi(niterations,loglike,\n\u001b[0m\u001b[1;32m    225\u001b[0m                                                              \u001b[0minit_params_kernel\u001b[0m\u001b[0;34m,\u001b[0m\u001b[0;34m\u001b[0m\u001b[0;34m\u001b[0m\u001b[0m\n\u001b[1;32m    226\u001b[0m                                                              \u001b[0mkernel_hypers_fixed\u001b[0m\u001b[0;34m=\u001b[0m\u001b[0mkernel_hypers_fixed\u001b[0m\u001b[0;34m,\u001b[0m\u001b[0;34m\u001b[0m\u001b[0;34m\u001b[0m\u001b[0m\n",
      "\u001b[0;32m~/Dropbox/DropBoxRunning/SkewNormal_all/Python_preferences_GP/GPpref/notebooks/../inference/advi_full.py\u001b[0m in \u001b[0;36madvi\u001b[0;34m(self, niterations, loglike, init_params_kernel, progress, kernel_hypers_fixed, diagonal, init_f)\u001b[0m\n\u001b[1;32m    186\u001b[0m         \u001b[0mpbar\u001b[0m \u001b[0;34m=\u001b[0m \u001b[0mtqdm\u001b[0m\u001b[0;34m(\u001b[0m\u001b[0mtotal\u001b[0m \u001b[0;34m=\u001b[0m \u001b[0mniterations\u001b[0m\u001b[0;34m,\u001b[0m \u001b[0mdisable\u001b[0m\u001b[0;34m=\u001b[0m\u001b[0;36m1\u001b[0m\u001b[0;34m-\u001b[0m\u001b[0mprogress\u001b[0m\u001b[0;34m,\u001b[0m \u001b[0mposition\u001b[0m\u001b[0;34m=\u001b[0m\u001b[0;36m0\u001b[0m\u001b[0;34m,\u001b[0m \u001b[0mleave\u001b[0m\u001b[0;34m=\u001b[0m\u001b[0;32mTrue\u001b[0m\u001b[0;34m)\u001b[0m\u001b[0;34m\u001b[0m\u001b[0;34m\u001b[0m\u001b[0m\n\u001b[1;32m    187\u001b[0m         \u001b[0;32mfor\u001b[0m \u001b[0mt\u001b[0m \u001b[0;32min\u001b[0m \u001b[0mrange\u001b[0m\u001b[0;34m(\u001b[0m\u001b[0mniterations\u001b[0m\u001b[0;34m)\u001b[0m\u001b[0;34m:\u001b[0m\u001b[0;34m\u001b[0m\u001b[0;34m\u001b[0m\u001b[0m\n\u001b[0;32m--> 188\u001b[0;31m             \u001b[0mopt_state\u001b[0m \u001b[0;34m=\u001b[0m \u001b[0mupdate\u001b[0m\u001b[0;34m(\u001b[0m\u001b[0mt\u001b[0m\u001b[0;34m,\u001b[0m \u001b[0mopt_state\u001b[0m\u001b[0;34m)\u001b[0m\u001b[0;34m\u001b[0m\u001b[0;34m\u001b[0m\u001b[0m\n\u001b[0m\u001b[1;32m    189\u001b[0m             \u001b[0mparams\u001b[0m \u001b[0;34m=\u001b[0m \u001b[0mget_params\u001b[0m\u001b[0;34m(\u001b[0m\u001b[0mopt_state\u001b[0m\u001b[0;34m)\u001b[0m\u001b[0;34m\u001b[0m\u001b[0;34m\u001b[0m\u001b[0m\n\u001b[1;32m    190\u001b[0m             \u001b[0mpbar\u001b[0m\u001b[0;34m.\u001b[0m\u001b[0mset_description\u001b[0m\u001b[0;34m(\u001b[0m\u001b[0;34mf\" lower bound {objective(params, t)}\"\u001b[0m\u001b[0;34m,\u001b[0m \u001b[0mrefresh\u001b[0m\u001b[0;34m=\u001b[0m\u001b[0;32mTrue\u001b[0m\u001b[0;34m)\u001b[0m\u001b[0;34m\u001b[0m\u001b[0;34m\u001b[0m\u001b[0m\n",
      "\u001b[0;32m~/anaconda3/envs/myenv/lib/python3.9/site-packages/jax/example_libraries/optimizers.py\u001b[0m in \u001b[0;36m<lambda>\u001b[0;34m(data, xs)\u001b[0m\n\u001b[1;32m    117\u001b[0m     \u001b[0mOptimizerState\u001b[0m\u001b[0;34m,\u001b[0m\u001b[0;34m\u001b[0m\u001b[0;34m\u001b[0m\u001b[0m\n\u001b[1;32m    118\u001b[0m     \u001b[0;32mlambda\u001b[0m \u001b[0mxs\u001b[0m\u001b[0;34m:\u001b[0m \u001b[0;34m(\u001b[0m\u001b[0;34m(\u001b[0m\u001b[0mxs\u001b[0m\u001b[0;34m.\u001b[0m\u001b[0mpacked_state\u001b[0m\u001b[0;34m,\u001b[0m\u001b[0;34m)\u001b[0m\u001b[0;34m,\u001b[0m \u001b[0;34m(\u001b[0m\u001b[0mxs\u001b[0m\u001b[0;34m.\u001b[0m\u001b[0mtree_def\u001b[0m\u001b[0;34m,\u001b[0m \u001b[0mxs\u001b[0m\u001b[0;34m.\u001b[0m\u001b[0msubtree_defs\u001b[0m\u001b[0;34m)\u001b[0m\u001b[0;34m)\u001b[0m\u001b[0;34m,\u001b[0m\u001b[0;34m\u001b[0m\u001b[0;34m\u001b[0m\u001b[0m\n\u001b[0;32m--> 119\u001b[0;31m     lambda data, xs: OptimizerState(xs[0], data[0], data[1]))  # type: ignore[index]\n\u001b[0m\u001b[1;32m    120\u001b[0m \u001b[0;34m\u001b[0m\u001b[0m\n\u001b[1;32m    121\u001b[0m \u001b[0;34m\u001b[0m\u001b[0m\n",
      "\u001b[0;31mKeyboardInterrupt\u001b[0m: "
     ]
    }
   ],
   "source": [
    "#choice data\n",
    "data={'X': X,#objects\n",
    "      'CA': CA,#choiced objects\n",
    "      'RA': RA,#rejected objects\n",
    "      'dimA':dimA# dimension of the choice set\n",
    "          }\n",
    "\n",
    "# number of latent utilities\n",
    "latent_dim=2\n",
    "\n",
    "# define kernel \n",
    "Kernel = jaxrbf.RBF\n",
    "#hyperparameters of the kernel\n",
    "params = {'lengthscale_0': {'value':1.0*np.ones(data[\"X\"].shape[1],float), \n",
    "                            'range':np.vstack([[0.1, 3.0]]*data[\"X\"].shape[1]),\n",
    "                            'transform': paramz.logexp()},\n",
    "                 'variance_0': {'value':np.array([3]), \n",
    "                            'range':np.vstack([[1.0, 200.0]]),\n",
    "                            'transform': paramz.logexp()},\n",
    "          'lengthscale_1': {'value':1.0*np.ones(data[\"X\"].shape[1],float), \n",
    "                            'range':np.vstack([[0.1, 3.0]]*data[\"X\"].shape[1]),\n",
    "                            'transform': paramz.logexp()},\n",
    "                 'variance_1': {'value':np.array([3]), \n",
    "                            'range':np.vstack([[1.0, 200.0]]),\n",
    "                            'transform': paramz.logexp()}\n",
    "              }\n",
    "\n",
    "# define choice model \n",
    "model = erroneousChoice(data,Kernel,params,latent_dim)\n",
    "# compute variational inference and estimate hyperparameters\n",
    "model.optimize_hyperparams(niterations=500,kernel_hypers_fixed=False)\n",
    "print(model.params)\n",
    "# predicted samples\n",
    "predictions = model.predict_VI(Xpred)\n",
    "#it returns the joint mean (predictions[0]) and joint covariance matrix (predictions[1]) for the latent utilities. They have"
   ]
  },
  {
   "cell_type": "code",
   "execution_count": 8,
   "id": "3db72a94",
   "metadata": {},
   "outputs": [
    {
     "name": "stderr",
     "output_type": "stream",
     "text": [
      "<ipython-input-8-bdc9477dcbe7>:9: FutureWarning: hdi currently interprets 2d data as (draw, shape) but this will change in a future release to (chain, draw) for coherence with other functions\n",
      "  cred_int1 = az.hdi(samples1)\n",
      "<ipython-input-8-bdc9477dcbe7>:15: FutureWarning: hdi currently interprets 2d data as (draw, shape) but this will change in a future release to (chain, draw) for coherence with other functions\n",
      "  cred_int2 = az.hdi(samples2)\n"
     ]
    },
    {
     "data": {
      "text/plain": [
       "<matplotlib.legend.Legend at 0x7fd2e03abaf0>"
      ]
     },
     "execution_count": 8,
     "metadata": {},
     "output_type": "execute_result"
    },
    {
     "data": {
      "image/png": "[encoded data removed]",
      "text/plain": [
       "<Figure size 432x288 with 1 Axes>"
      ]
     },
     "metadata": {
      "needs_background": "light"
     },
     "output_type": "display_data"
    }
   ],
   "source": [
    "import arviz as az\n",
    "from scipy.stats import multivariate_normal\n",
    "ff = predictions[0]\n",
    "#first utility\n",
    "mean1=ff[0:Xpred.shape[0]]\n",
    "#std1=np.sqrt(np.diag(predictions[1][0:Xpred.shape[0],0:Xpred.shape[0]]))\n",
    "Sigma1 = predictions[1][0:Xpred.shape[0],0:Xpred.shape[0]]\n",
    "samples1 = multivariate_normal(mean1[:,0],Sigma1+1e-2*np.eye(Sigma1.shape[0])).rvs(4000)\n",
    "cred_int1 = az.hdi(samples1)\n",
    "#second utility\n",
    "mean2=ff[Xpred.shape[0]:]\n",
    "#std2=np.sqrt(np.diag(predictions[1][Xpred.shape[0]:,Xpred.shape[0]:]))\n",
    "Sigma2 = predictions[1][Xpred.shape[0]:,Xpred.shape[0]:]\n",
    "samples2 = multivariate_normal(mean2[:,0],Sigma2+1e-2*np.eye(Sigma2.shape[0])).rvs(4000)\n",
    "cred_int2 = az.hdi(samples2)\n",
    "\n",
    "plt.plot(Xpred[:,0],mean1,color='C0',label=\"$E[u_1]$\")\n",
    "plt.fill_between(Xpred[:,0],cred_int1[:,0],cred_int1[:,1],color='C0', linestyle=':',alpha=0.15)\n",
    "plt.plot(Xpred[:,0],mean2,color='C1',label=\"$E[u_2]$\")\n",
    "plt.fill_between(Xpred[:,0],cred_int2[:,0],cred_int2[:,1],color='C1', linestyle=':',alpha=0.15)\n",
    "plt.xlabel(\"x\", fontsize=16)\n",
    "plt.ylabel(\"u\", fontsize=16, rotation=0)\n",
    "plt.legend(fontsize=16,loc='lower left')"
   ]
  },
  {
   "cell_type": "code",
   "execution_count": 18,
   "id": "08b721e8",
   "metadata": {},
   "outputs": [
    {
     "data": {
      "text/plain": [
       "[<matplotlib.lines.Line2D at 0x7fd34c01cbe0>]"
      ]
     },
     "execution_count": 18,
     "metadata": {},
     "output_type": "execute_result"
    },
    {
     "data": {
      "image/png": "[encoded data removed]",
      "text/plain": [
       "<Figure size 432x288 with 1 Axes>"
      ]
     },
     "metadata": {
      "needs_background": "light"
     },
     "output_type": "display_data"
    }
   ],
   "source": [
    "import arviz as az\n",
    "from scipy.stats import multivariate_normal\n",
    "mean = predictions[0]\n",
    "Sigma = predictions[1]\n",
    "#first utility\n",
    "samples = multivariate_normal(mean[:,0],Sigma+1e-2*np.eye(Sigma.shape[0])).rvs(4000)\n",
    "i = 5\n",
    "u1 = samples[i][0:Xpred.shape[0]]\n",
    "u2 = samples[i][Xpred.shape[0]:]\n",
    "plt.plot(Xpred[:,0],u1,color='C0',label=\"$E[u_1]$\")\n",
    "plt.plot(Xpred[:,0],u2,color='C1',label=\"$E[u_1]$\")"
   ]
  },
  {
   "cell_type": "code",
   "execution_count": null,
   "id": "51aaccb2",
   "metadata": {},
   "outputs": [],
   "source": [
    "## Elliptical slice sampler\n"
   ]
  },
  {
   "cell_type": "code",
   "execution_count": 6,
   "id": "0eeaf473",
   "metadata": {},
   "outputs": [
    {
     "name": "stderr",
     "output_type": "stream",
     "text": [
      "100%|██████████| 8000/8000 [09:58<00:00, 13.36it/s]\n"
     ]
    }
   ],
   "source": [
    "model.sample()\n",
    "samples=model.predict(Xpred)\n"
   ]
  },
  {
   "cell_type": "code",
   "execution_count": 8,
   "id": "4bd036c9",
   "metadata": {},
   "outputs": [
    {
     "data": {
      "text/plain": [
       "(200, 2000)"
      ]
     },
     "execution_count": 8,
     "metadata": {},
     "output_type": "execute_result"
    }
   ],
   "source": [
    "samples1.shape"
   ]
  },
  {
   "cell_type": "code",
   "execution_count": 16,
   "id": "ec67c371",
   "metadata": {},
   "outputs": [
    {
     "name": "stderr",
     "output_type": "stream",
     "text": [
      "<ipython-input-16-e03681179876>:4: FutureWarning: hdi currently interprets 2d data as (draw, shape) but this will change in a future release to (chain, draw) for coherence with other functions\n",
      "  cred_int1 = az.hdi(np.array(samples1).T)\n",
      "<ipython-input-16-e03681179876>:8: FutureWarning: hdi currently interprets 2d data as (draw, shape) but this will change in a future release to (chain, draw) for coherence with other functions\n",
      "  cred_int2 = az.hdi(np.array(samples2).T)\n"
     ]
    },
    {
     "data": {
      "text/plain": [
       "<matplotlib.legend.Legend at 0x7f65fd595070>"
      ]
     },
     "execution_count": 16,
     "metadata": {},
     "output_type": "execute_result"
    },
    {
     "data": {
      "image/png": "[encoded data removed]",
      "text/plain": [
       "<Figure size 432x288 with 1 Axes>"
      ]
     },
     "metadata": {
      "needs_background": "light"
     },
     "output_type": "display_data"
    }
   ],
   "source": [
    "#first utility\n",
    "samples1 = samples[0:Xpred.shape[0]]\n",
    "mean1=np.mean(samples1,axis=1)\n",
    "cred_int1 = az.hdi(np.array(samples1).T)\n",
    "#second utility\n",
    "samples2 = samples[Xpred.shape[0]:]\n",
    "mean2=np.mean(samples2,axis=1)\n",
    "cred_int2 = az.hdi(np.array(samples2).T)\n",
    "\n",
    "plt.plot(Xpred[:,0],mean1,color='C0',label=\"$E[u_1]$\")\n",
    "plt.fill_between(Xpred[:,0],cred_int1[:,0],cred_int1[:,1],color='C0', linestyle=':',alpha=0.15)\n",
    "plt.plot(Xpred[:,0],mean2,color='C1',label=\"$E[u_2]$\")\n",
    "plt.fill_between(Xpred[:,0],cred_int2[:,0],cred_int2[:,1],color='C1', linestyle=':',alpha=0.15)\n",
    "plt.xlabel(\"x\", fontsize=16)\n",
    "plt.ylabel(\"u\", fontsize=16, rotation=0)\n",
    "plt.legend(fontsize=16,loc='lower left')"
   ]
  },
  {
   "cell_type": "code",
   "execution_count": 12,
   "id": "a51387ec",
   "metadata": {},
   "outputs": [
    {
     "name": "stderr",
     "output_type": "stream",
     "text": [
      "<ipython-input-12-d2ecd5bafdb2>:1: FutureWarning: hdi currently interprets 2d data as (draw, shape) but this will change in a future release to (chain, draw) for coherence with other functions\n",
      "  az.hdi(np.array(samples1))\n"
     ]
    },
    {
     "data": {
      "text/plain": [
       "array([[-4.89675804,  4.67598879],\n",
       "       [-5.36734098,  4.13668907],\n",
       "       [-4.89955392,  4.39271634],\n",
       "       ...,\n",
       "       [-5.56079353,  5.260501  ],\n",
       "       [-6.42922313,  4.83443967],\n",
       "       [-6.41792165,  4.77924618]])"
      ]
     },
     "execution_count": 12,
     "metadata": {},
     "output_type": "execute_result"
    }
   ],
   "source": [
    "az.hdi(np.array(samples1))"
   ]
  },
  {
   "cell_type": "markdown",
   "id": "2c9c3bae",
   "metadata": {},
   "source": [
    "## Learning the latent dimension\n",
    "To learn the latent dimension, we will use the PSIS-LOO. We will try all values of the latent dimension between 1 and 4 and select the value which has lowest PSIS-LOO."
   ]
  },
  {
   "cell_type": "code",
   "execution_count": 10,
   "id": "80dd73cf",
   "metadata": {},
   "outputs": [
    {
     "name": "stdout",
     "output_type": "stream",
     "text": [
      "101591.31818851492\n",
      "3148.015245903669\n",
      "300764.8702469492\n",
      "3147.6691817975416\n"
     ]
    },
    {
     "name": "stderr",
     "output_type": "stream",
     "text": [
      "\r",
      "  0%|          | 0/3000 [00:00<?, ?it/s]"
     ]
    },
    {
     "name": "stdout",
     "output_type": "stream",
     "text": [
      "3147.6689110514226\n",
      "3147.6689110514226\n"
     ]
    },
    {
     "name": "stderr",
     "output_type": "stream",
     "text": [
      "100%|██████████| 3000/3000 [01:48<00:00, 27.75it/s]\n"
     ]
    },
    {
     "name": "stdout",
     "output_type": "stream",
     "text": [
      "(4000, 150)\n",
      "score= -3145.7180146988094\n",
      "accuracy train= 0.30666666666666664\n",
      "  latentdim accuracy_train          loo accuracy_test\n",
      "0       1.0       0.306667 -3145.718015           NaN\n"
     ]
    },
    {
     "name": "stderr",
     "output_type": "stream",
     "text": [
      "/home/benavoli/Dropbox/DropBoxRunning/SkewNormal_all/SkewNormal/ChoiceLearning/github_code/notebooks/model_selection.py:130: FutureWarning: The frame.append method is deprecated and will be removed from pandas in a future version. Use pandas.concat instead.\n",
      "  Scores = Scores.append({'latentdim': latentd, 'accuracy_train': acc_tr,  'loo': loo, 'accuracy_test':acc_te}, ignore_index=True)\n"
     ]
    },
    {
     "name": "stdout",
     "output_type": "stream",
     "text": [
      "101.21042411640651\n",
      "101.16944468624246\n",
      "551639.7326480777\n",
      "101.18777224275266\n"
     ]
    },
    {
     "name": "stderr",
     "output_type": "stream",
     "text": [
      "\r",
      "  0%|          | 0/3000 [00:00<?, ?it/s]"
     ]
    },
    {
     "name": "stdout",
     "output_type": "stream",
     "text": [
      "101.20328349335006\n",
      "101.16944468624246\n"
     ]
    },
    {
     "name": "stderr",
     "output_type": "stream",
     "text": [
      "100%|██████████| 3000/3000 [04:46<00:00, 10.46it/s]\n"
     ]
    },
    {
     "name": "stdout",
     "output_type": "stream",
     "text": [
      "(4000, 150)\n",
      "score= -86.23673925925472\n",
      "accuracy train= 0.9266666666666666\n",
      "  latentdim accuracy_train          loo accuracy_test\n",
      "0       1.0       0.306667 -3145.718015           NaN\n",
      "1       2.0       0.926667   -86.236739           NaN\n"
     ]
    },
    {
     "name": "stderr",
     "output_type": "stream",
     "text": [
      "/home/benavoli/Dropbox/DropBoxRunning/SkewNormal_all/SkewNormal/ChoiceLearning/github_code/notebooks/model_selection.py:130: FutureWarning: The frame.append method is deprecated and will be removed from pandas in a future version. Use pandas.concat instead.\n",
      "  Scores = Scores.append({'latentdim': latentd, 'accuracy_train': acc_tr,  'loo': loo, 'accuracy_test':acc_te}, ignore_index=True)\n"
     ]
    },
    {
     "name": "stdout",
     "output_type": "stream",
     "text": [
      "479363.4385647573\n",
      "114.42296813491552\n",
      "112.9520351709229\n",
      "112.8312211851067\n"
     ]
    },
    {
     "name": "stderr",
     "output_type": "stream",
     "text": [
      "\r",
      "  0%|          | 0/3000 [00:00<?, ?it/s]"
     ]
    },
    {
     "name": "stdout",
     "output_type": "stream",
     "text": [
      "112.81920039539624\n",
      "112.81920039539624\n"
     ]
    },
    {
     "name": "stderr",
     "output_type": "stream",
     "text": [
      "100%|██████████| 3000/3000 [08:48<00:00,  5.68it/s]\n"
     ]
    },
    {
     "name": "stdout",
     "output_type": "stream",
     "text": [
      "(4000, 150)\n",
      "score= -106.19431955100741\n",
      "accuracy train= 0.92\n",
      "  latentdim accuracy_train          loo accuracy_test\n",
      "0       1.0       0.306667 -3145.718015           NaN\n",
      "1       2.0       0.926667   -86.236739           NaN\n",
      "2       3.0           0.92   -106.19432           NaN\n"
     ]
    },
    {
     "name": "stderr",
     "output_type": "stream",
     "text": [
      "/home/benavoli/Dropbox/DropBoxRunning/SkewNormal_all/SkewNormal/ChoiceLearning/github_code/notebooks/model_selection.py:130: FutureWarning: The frame.append method is deprecated and will be removed from pandas in a future version. Use pandas.concat instead.\n",
      "  Scores = Scores.append({'latentdim': latentd, 'accuracy_train': acc_tr,  'loo': loo, 'accuracy_test':acc_te}, ignore_index=True)\n"
     ]
    },
    {
     "name": "stdout",
     "output_type": "stream",
     "text": [
      "1284269.2591012483\n",
      "129.50850285512922\n",
      "103103.14536458952\n",
      "129.59266443441885\n"
     ]
    },
    {
     "name": "stderr",
     "output_type": "stream",
     "text": [
      "\r",
      "  0%|          | 0/3000 [00:00<?, ?it/s]"
     ]
    },
    {
     "name": "stdout",
     "output_type": "stream",
     "text": [
      "917408.5887169528\n",
      "129.50850285512922\n"
     ]
    },
    {
     "name": "stderr",
     "output_type": "stream",
     "text": [
      "100%|██████████| 3000/3000 [13:01<00:00,  3.84it/s]\n"
     ]
    },
    {
     "name": "stdout",
     "output_type": "stream",
     "text": [
      "(4000, 150)\n",
      "score= -127.8036605822002\n",
      "accuracy train= 0.88\n",
      "  latentdim accuracy_train          loo accuracy_test\n",
      "0       1.0       0.306667 -3145.718015           NaN\n",
      "1       2.0       0.926667   -86.236739           NaN\n",
      "2       3.0           0.92   -106.19432           NaN\n",
      "3       4.0           0.88  -127.803661           NaN\n"
     ]
    },
    {
     "name": "stderr",
     "output_type": "stream",
     "text": [
      "/home/benavoli/Dropbox/DropBoxRunning/SkewNormal_all/SkewNormal/ChoiceLearning/github_code/notebooks/model_selection.py:130: FutureWarning: The frame.append method is deprecated and will be removed from pandas in a future version. Use pandas.concat instead.\n",
      "  Scores = Scores.append({'latentdim': latentd, 'accuracy_train': acc_tr,  'loo': loo, 'accuracy_test':acc_te}, ignore_index=True)\n"
     ]
    },
    {
     "data": {
      "text/html": [
       "<div>\n",
       "<style scoped>\n",
       "    .dataframe tbody tr th:only-of-type {\n",
       "        vertical-align: middle;\n",
       "    }\n",
       "\n",
       "    .dataframe tbody tr th {\n",
       "        vertical-align: top;\n",
       "    }\n",
       "\n",
       "    .dataframe thead th {\n",
       "        text-align: right;\n",
       "    }\n",
       "</style>\n",
       "<table border=\"1\" class=\"dataframe\">\n",
       "  <thead>\n",
       "    <tr style=\"text-align: right;\">\n",
       "      <th></th>\n",
       "      <th>latentdim</th>\n",
       "      <th>accuracy_train</th>\n",
       "      <th>loo</th>\n",
       "      <th>accuracy_test</th>\n",
       "    </tr>\n",
       "  </thead>\n",
       "  <tbody>\n",
       "    <tr>\n",
       "      <th>0</th>\n",
       "      <td>1.0</td>\n",
       "      <td>0.306667</td>\n",
       "      <td>-3145.718015</td>\n",
       "      <td>NaN</td>\n",
       "    </tr>\n",
       "    <tr>\n",
       "      <th>1</th>\n",
       "      <td>2.0</td>\n",
       "      <td>0.926667</td>\n",
       "      <td>-86.236739</td>\n",
       "      <td>NaN</td>\n",
       "    </tr>\n",
       "    <tr>\n",
       "      <th>2</th>\n",
       "      <td>3.0</td>\n",
       "      <td>0.92</td>\n",
       "      <td>-106.19432</td>\n",
       "      <td>NaN</td>\n",
       "    </tr>\n",
       "    <tr>\n",
       "      <th>3</th>\n",
       "      <td>4.0</td>\n",
       "      <td>0.88</td>\n",
       "      <td>-127.803661</td>\n",
       "      <td>NaN</td>\n",
       "    </tr>\n",
       "  </tbody>\n",
       "</table>\n",
       "</div>"
      ],
      "text/plain": [
       "  latentdim accuracy_train          loo accuracy_test\n",
       "0       1.0       0.306667 -3145.718015           NaN\n",
       "1       2.0       0.926667   -86.236739           NaN\n",
       "2       3.0           0.92   -106.19432           NaN\n",
       "3       4.0           0.88  -127.803661           NaN"
      ]
     },
     "execution_count": 10,
     "metadata": {},
     "output_type": "execute_result"
    }
   ],
   "source": [
    "import model_selection as ms\n",
    "\n",
    "Scores=ms.model_Selection(X,dimA,  CA_tr=CA, RA_tr=RA, minm=1,maxm=4)\n",
    "Scores"
   ]
  },
  {
   "cell_type": "markdown",
   "id": "a0c10296",
   "metadata": {},
   "source": [
    "The best dimension is $2$, equal to the true dimension."
   ]
  },
  {
   "cell_type": "code",
   "execution_count": null,
   "id": "ad255b50",
   "metadata": {},
   "outputs": [],
   "source": []
  }
 ],
 "metadata": {
  "hide_input": false,
  "kernelspec": {
   "display_name": "Python 3",
   "language": "python",
   "name": "python3"
  },
  "language_info": {
   "codemirror_mode": {
    "name": "ipython",
    "version": 3
   },
   "file_extension": ".py",
   "mimetype": "text/x-python",
   "name": "python",
   "nbconvert_exporter": "python",
   "pygments_lexer": "ipython3",
   "version": "3.9.7"
  }
 },
 "nbformat": 4,
 "nbformat_minor": 5
}
